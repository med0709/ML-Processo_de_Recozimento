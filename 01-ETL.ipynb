{
 "cells": [
  {
   "cell_type": "code",
   "execution_count": 2,
   "metadata": {},
   "outputs": [],
   "source": [
    "import pandas as pd\n",
    "import numpy as np\n",
    "import matplotlib.pyplot as plt\n",
    "import numpy as np\n",
    "import seaborn as sns\n",
    "import warnings\n",
    "\n",
    "warnings.filterwarnings(\"ignore\")\n",
    "%matplotlib inline"
   ]
  },
  {
   "cell_type": "markdown",
   "metadata": {},
   "source": [
    "# O desafio\n",
    "\n",
    "O recozimento é um tratamento térmico que tem por finalidade eliminar a dureza de\n",
    "uma peça temperada ou normalizar materiais com tensões internas resultantes do\n",
    "forjamento, da laminação e da trefilação. De acordo com o novo nível de dureza do\n",
    "material tratado, o resultado do processo de recozimento pode ser classificado como:\n",
    "ideal, mediano ou ruim.\n",
    "O conjunto de dados apresentado traz o resultado da execução de diferentes processos\n",
    "de recozimento em experimentos variados.\n",
    "Assim sendo, o candidato deve utilizar os dados para treinar um modelo de machine\n",
    "learning que posteriormente deverá ser utilizado para predizer o resultado de novos\n",
    "processos de recozimento."
   ]
  },
  {
   "cell_type": "markdown",
   "metadata": {},
   "source": [
    "# Importação e Merge dos Datasets"
   ]
  },
  {
   "cell_type": "code",
   "execution_count": 3,
   "metadata": {},
   "outputs": [],
   "source": [
    "# Importação dos Dados \n",
    "\n",
    "arquivo_01 = 'train.csv'\n",
    "arquivo_02 = 'data_experimentos.csv'\n",
    "\n",
    "df_arquivo_01 = pd.read_csv(arquivo_01)\n",
    "df_arquivo_02 = pd.read_csv(arquivo_02)"
   ]
  },
  {
   "cell_type": "code",
   "execution_count": 4,
   "metadata": {},
   "outputs": [
    {
     "data": {
      "text/html": [
       "<div>\n",
       "<style scoped>\n",
       "    .dataframe tbody tr th:only-of-type {\n",
       "        vertical-align: middle;\n",
       "    }\n",
       "\n",
       "    .dataframe tbody tr th {\n",
       "        vertical-align: top;\n",
       "    }\n",
       "\n",
       "    .dataframe thead th {\n",
       "        text-align: right;\n",
       "    }\n",
       "</style>\n",
       "<table border=\"1\" class=\"dataframe\">\n",
       "  <thead>\n",
       "    <tr style=\"text-align: right;\">\n",
       "      <th></th>\n",
       "      <th>family</th>\n",
       "      <th>product-type</th>\n",
       "      <th>steel</th>\n",
       "      <th>carbon</th>\n",
       "      <th>hardness</th>\n",
       "      <th>temper_rolling</th>\n",
       "      <th>condition</th>\n",
       "      <th>formability</th>\n",
       "      <th>strength</th>\n",
       "      <th>non-ageing</th>\n",
       "      <th>...</th>\n",
       "      <th>p</th>\n",
       "      <th>shape</th>\n",
       "      <th>thick</th>\n",
       "      <th>width</th>\n",
       "      <th>len</th>\n",
       "      <th>oil</th>\n",
       "      <th>bore</th>\n",
       "      <th>packing</th>\n",
       "      <th>recozimento</th>\n",
       "      <th>experimento</th>\n",
       "    </tr>\n",
       "  </thead>\n",
       "  <tbody>\n",
       "    <tr>\n",
       "      <th>0</th>\n",
       "      <td>?</td>\n",
       "      <td>C</td>\n",
       "      <td>A</td>\n",
       "      <td>8</td>\n",
       "      <td>0</td>\n",
       "      <td>?</td>\n",
       "      <td>S</td>\n",
       "      <td>?</td>\n",
       "      <td>0</td>\n",
       "      <td>?</td>\n",
       "      <td>...</td>\n",
       "      <td>?</td>\n",
       "      <td>COIL</td>\n",
       "      <td>_0.7_</td>\n",
       "      <td>_610.0_</td>\n",
       "      <td>_0_</td>\n",
       "      <td>?</td>\n",
       "      <td>0</td>\n",
       "      <td>?</td>\n",
       "      <td>ruim</td>\n",
       "      <td>exp_2</td>\n",
       "    </tr>\n",
       "    <tr>\n",
       "      <th>1</th>\n",
       "      <td>?</td>\n",
       "      <td>C</td>\n",
       "      <td>R</td>\n",
       "      <td>0</td>\n",
       "      <td>0</td>\n",
       "      <td>?</td>\n",
       "      <td>S</td>\n",
       "      <td>2.0</td>\n",
       "      <td>0</td>\n",
       "      <td>?</td>\n",
       "      <td>...</td>\n",
       "      <td>?</td>\n",
       "      <td>SHEET</td>\n",
       "      <td>_0.7_</td>\n",
       "      <td>_1300.0_</td>\n",
       "      <td>_762_</td>\n",
       "      <td>?</td>\n",
       "      <td>0</td>\n",
       "      <td>?</td>\n",
       "      <td>ruim</td>\n",
       "      <td>exp_1368</td>\n",
       "    </tr>\n",
       "    <tr>\n",
       "      <th>2</th>\n",
       "      <td>?</td>\n",
       "      <td>C</td>\n",
       "      <td>A</td>\n",
       "      <td>0</td>\n",
       "      <td>60</td>\n",
       "      <td>T</td>\n",
       "      <td>?</td>\n",
       "      <td>?</td>\n",
       "      <td>0</td>\n",
       "      <td>?</td>\n",
       "      <td>...</td>\n",
       "      <td>?</td>\n",
       "      <td>COIL</td>\n",
       "      <td>_2.801_</td>\n",
       "      <td>_385.1_</td>\n",
       "      <td>_0_</td>\n",
       "      <td>?</td>\n",
       "      <td>0</td>\n",
       "      <td>?</td>\n",
       "      <td>ideal</td>\n",
       "      <td>exp_1130</td>\n",
       "    </tr>\n",
       "    <tr>\n",
       "      <th>3</th>\n",
       "      <td>?</td>\n",
       "      <td>C</td>\n",
       "      <td>A</td>\n",
       "      <td>0</td>\n",
       "      <td>60</td>\n",
       "      <td>T</td>\n",
       "      <td>?</td>\n",
       "      <td>?</td>\n",
       "      <td>0</td>\n",
       "      <td>?</td>\n",
       "      <td>...</td>\n",
       "      <td>?</td>\n",
       "      <td>SHEET</td>\n",
       "      <td>_0.801_</td>\n",
       "      <td>_255.0_</td>\n",
       "      <td>_269_</td>\n",
       "      <td>?</td>\n",
       "      <td>0</td>\n",
       "      <td>?</td>\n",
       "      <td>ideal</td>\n",
       "      <td>exp_402</td>\n",
       "    </tr>\n",
       "    <tr>\n",
       "      <th>4</th>\n",
       "      <td>?</td>\n",
       "      <td>C</td>\n",
       "      <td>A</td>\n",
       "      <td>0</td>\n",
       "      <td>45</td>\n",
       "      <td>?</td>\n",
       "      <td>S</td>\n",
       "      <td>?</td>\n",
       "      <td>0</td>\n",
       "      <td>?</td>\n",
       "      <td>...</td>\n",
       "      <td>?</td>\n",
       "      <td>COIL</td>\n",
       "      <td>_1.6_</td>\n",
       "      <td>_610.0_</td>\n",
       "      <td>_0_</td>\n",
       "      <td>?</td>\n",
       "      <td>0</td>\n",
       "      <td>?</td>\n",
       "      <td>mediano</td>\n",
       "      <td>exp_407</td>\n",
       "    </tr>\n",
       "  </tbody>\n",
       "</table>\n",
       "<p>5 rows × 40 columns</p>\n",
       "</div>"
      ],
      "text/plain": [
       "  family product-type steel  carbon  hardness temper_rolling condition  \\\n",
       "0      ?            C     A       8         0              ?         S   \n",
       "1      ?            C     R       0         0              ?         S   \n",
       "2      ?            C     A       0        60              T         ?   \n",
       "3      ?            C     A       0        60              T         ?   \n",
       "4      ?            C     A       0        45              ?         S   \n",
       "\n",
       "  formability  strength non-ageing  ...  p  shape      thick       width  \\\n",
       "0           ?         0          ?  ...  ?   COIL     _0.7_     _610.0_    \n",
       "1         2.0         0          ?  ...  ?  SHEET     _0.7_    _1300.0_    \n",
       "2           ?         0          ?  ...  ?   COIL   _2.801_     _385.1_    \n",
       "3           ?         0          ?  ...  ?  SHEET   _0.801_     _255.0_    \n",
       "4           ?         0          ?  ...  ?   COIL     _1.6_     _610.0_    \n",
       "\n",
       "       len oil bore packing recozimento experimento  \n",
       "0     _0_    ?    0       ?        ruim       exp_2  \n",
       "1   _762_    ?    0       ?        ruim    exp_1368  \n",
       "2     _0_    ?    0       ?       ideal    exp_1130  \n",
       "3   _269_    ?    0       ?       ideal     exp_402  \n",
       "4     _0_    ?    0       ?     mediano     exp_407  \n",
       "\n",
       "[5 rows x 40 columns]"
      ]
     },
     "execution_count": 4,
     "metadata": {},
     "output_type": "execute_result"
    }
   ],
   "source": [
    "df_arquivo_01.head()"
   ]
  },
  {
   "cell_type": "code",
   "execution_count": 5,
   "metadata": {},
   "outputs": [
    {
     "name": "stdout",
     "output_type": "stream",
     "text": [
      "<class 'pandas.core.frame.DataFrame'>\n",
      "RangeIndex: 2424 entries, 0 to 2423\n",
      "Data columns (total 40 columns):\n",
      "family                    2424 non-null object\n",
      "product-type              2424 non-null object\n",
      "steel                     2424 non-null object\n",
      "carbon                    2424 non-null int64\n",
      "hardness                  2424 non-null int64\n",
      "temper_rolling            2424 non-null object\n",
      "condition                 2424 non-null object\n",
      "formability               2424 non-null object\n",
      "strength                  2424 non-null int64\n",
      "non-ageing                2424 non-null object\n",
      "surface-finish            2424 non-null object\n",
      "surface-quality           2424 non-null object\n",
      "enamelability             2424 non-null object\n",
      "bc                        2424 non-null object\n",
      "bf                        2424 non-null object\n",
      "bt                        2424 non-null object\n",
      "bw/me                     2424 non-null object\n",
      "bl                        2424 non-null object\n",
      "m                         2424 non-null object\n",
      "chrom                     2424 non-null object\n",
      "phos                      2424 non-null object\n",
      "cbond                     2424 non-null object\n",
      "marvi                     2424 non-null object\n",
      "exptl                     2424 non-null object\n",
      "ferro                     2424 non-null object\n",
      "corr                      2424 non-null object\n",
      "blue/bright/varn/clean    2424 non-null object\n",
      "lustre                    2424 non-null object\n",
      "jurofm                    2424 non-null object\n",
      "s                         2424 non-null object\n",
      "p                         2424 non-null object\n",
      "shape                     2424 non-null object\n",
      "thick                     2424 non-null object\n",
      "width                     2424 non-null object\n",
      "len                       2424 non-null object\n",
      "oil                       2424 non-null object\n",
      "bore                      2424 non-null int64\n",
      "packing                   2424 non-null object\n",
      "recozimento               2424 non-null object\n",
      "experimento               2424 non-null object\n",
      "dtypes: int64(4), object(36)\n",
      "memory usage: 757.6+ KB\n"
     ]
    }
   ],
   "source": [
    "df_arquivo_01.info()"
   ]
  },
  {
   "cell_type": "code",
   "execution_count": 6,
   "metadata": {},
   "outputs": [
    {
     "data": {
      "text/plain": [
       "0       exp_2\n",
       "1    exp_1368\n",
       "2    exp_1130\n",
       "3     exp_402\n",
       "4     exp_407\n",
       "Name: experimento, dtype: object"
      ]
     },
     "execution_count": 6,
     "metadata": {},
     "output_type": "execute_result"
    }
   ],
   "source": [
    "df_arquivo_01['experimento'].head()"
   ]
  },
  {
   "cell_type": "code",
   "execution_count": 7,
   "metadata": {},
   "outputs": [
    {
     "data": {
      "text/html": [
       "<div>\n",
       "<style scoped>\n",
       "    .dataframe tbody tr th:only-of-type {\n",
       "        vertical-align: middle;\n",
       "    }\n",
       "\n",
       "    .dataframe tbody tr th {\n",
       "        vertical-align: top;\n",
       "    }\n",
       "\n",
       "    .dataframe thead th {\n",
       "        text-align: right;\n",
       "    }\n",
       "</style>\n",
       "<table border=\"1\" class=\"dataframe\">\n",
       "  <thead>\n",
       "    <tr style=\"text-align: right;\">\n",
       "      <th></th>\n",
       "      <th>exp_id</th>\n",
       "      <th>ano</th>\n",
       "      <th>mes</th>\n",
       "    </tr>\n",
       "  </thead>\n",
       "  <tbody>\n",
       "    <tr>\n",
       "      <th>0</th>\n",
       "      <td>2</td>\n",
       "      <td>2020</td>\n",
       "      <td>8</td>\n",
       "    </tr>\n",
       "    <tr>\n",
       "      <th>1</th>\n",
       "      <td>1368</td>\n",
       "      <td>2020</td>\n",
       "      <td>8</td>\n",
       "    </tr>\n",
       "    <tr>\n",
       "      <th>2</th>\n",
       "      <td>1130</td>\n",
       "      <td>2020</td>\n",
       "      <td>8</td>\n",
       "    </tr>\n",
       "    <tr>\n",
       "      <th>3</th>\n",
       "      <td>402</td>\n",
       "      <td>2020</td>\n",
       "      <td>8</td>\n",
       "    </tr>\n",
       "    <tr>\n",
       "      <th>4</th>\n",
       "      <td>407</td>\n",
       "      <td>2020</td>\n",
       "      <td>8</td>\n",
       "    </tr>\n",
       "  </tbody>\n",
       "</table>\n",
       "</div>"
      ],
      "text/plain": [
       "   exp_id   ano  mes\n",
       "0       2  2020    8\n",
       "1    1368  2020    8\n",
       "2    1130  2020    8\n",
       "3     402  2020    8\n",
       "4     407  2020    8"
      ]
     },
     "execution_count": 7,
     "metadata": {},
     "output_type": "execute_result"
    }
   ],
   "source": [
    "df_arquivo_02.head()"
   ]
  },
  {
   "cell_type": "code",
   "execution_count": 8,
   "metadata": {},
   "outputs": [],
   "source": [
    "df_arquivo_02['exp_id'] = 'exp_' + df_arquivo_02['exp_id'].astype(str)"
   ]
  },
  {
   "cell_type": "code",
   "execution_count": 9,
   "metadata": {},
   "outputs": [
    {
     "name": "stdout",
     "output_type": "stream",
     "text": [
      "<class 'pandas.core.frame.DataFrame'>\n",
      "RangeIndex: 2424 entries, 0 to 2423\n",
      "Data columns (total 3 columns):\n",
      "exp_id    2424 non-null object\n",
      "ano       2424 non-null int64\n",
      "mes       2424 non-null int64\n",
      "dtypes: int64(2), object(1)\n",
      "memory usage: 56.9+ KB\n"
     ]
    }
   ],
   "source": [
    "df_arquivo_02.info()"
   ]
  },
  {
   "cell_type": "markdown",
   "metadata": {},
   "source": [
    "\n",
    "Para unir os datasets será necessário formatar a coluna \"df_arquivo01['experimento']\" para ficar no mesmo formato que a coluna \"df_arquivo02['exp_id']\"\n",
    "\n"
   ]
  },
  {
   "cell_type": "code",
   "execution_count": 10,
   "metadata": {},
   "outputs": [],
   "source": [
    "df_analise = pd.merge(left = df_arquivo_01,\n",
    "                      right = df_arquivo_02,\n",
    "                      how = 'outer',\n",
    "                      left_on='experimento',\n",
    "                      right_on='exp_id')"
   ]
  },
  {
   "cell_type": "code",
   "execution_count": 11,
   "metadata": {},
   "outputs": [
    {
     "data": {
      "text/html": [
       "<div>\n",
       "<style scoped>\n",
       "    .dataframe tbody tr th:only-of-type {\n",
       "        vertical-align: middle;\n",
       "    }\n",
       "\n",
       "    .dataframe tbody tr th {\n",
       "        vertical-align: top;\n",
       "    }\n",
       "\n",
       "    .dataframe thead th {\n",
       "        text-align: right;\n",
       "    }\n",
       "</style>\n",
       "<table border=\"1\" class=\"dataframe\">\n",
       "  <thead>\n",
       "    <tr style=\"text-align: right;\">\n",
       "      <th></th>\n",
       "      <th>family</th>\n",
       "      <th>product-type</th>\n",
       "      <th>steel</th>\n",
       "      <th>carbon</th>\n",
       "      <th>hardness</th>\n",
       "      <th>temper_rolling</th>\n",
       "      <th>condition</th>\n",
       "      <th>formability</th>\n",
       "      <th>strength</th>\n",
       "      <th>non-ageing</th>\n",
       "      <th>...</th>\n",
       "      <th>width</th>\n",
       "      <th>len</th>\n",
       "      <th>oil</th>\n",
       "      <th>bore</th>\n",
       "      <th>packing</th>\n",
       "      <th>recozimento</th>\n",
       "      <th>experimento</th>\n",
       "      <th>exp_id</th>\n",
       "      <th>ano</th>\n",
       "      <th>mes</th>\n",
       "    </tr>\n",
       "  </thead>\n",
       "  <tbody>\n",
       "    <tr>\n",
       "      <th>0</th>\n",
       "      <td>?</td>\n",
       "      <td>C</td>\n",
       "      <td>A</td>\n",
       "      <td>8</td>\n",
       "      <td>0</td>\n",
       "      <td>?</td>\n",
       "      <td>S</td>\n",
       "      <td>?</td>\n",
       "      <td>0</td>\n",
       "      <td>?</td>\n",
       "      <td>...</td>\n",
       "      <td>_610.0_</td>\n",
       "      <td>_0_</td>\n",
       "      <td>?</td>\n",
       "      <td>0</td>\n",
       "      <td>?</td>\n",
       "      <td>ruim</td>\n",
       "      <td>exp_2</td>\n",
       "      <td>exp_2</td>\n",
       "      <td>2020</td>\n",
       "      <td>8</td>\n",
       "    </tr>\n",
       "    <tr>\n",
       "      <th>1</th>\n",
       "      <td>?</td>\n",
       "      <td>C</td>\n",
       "      <td>R</td>\n",
       "      <td>0</td>\n",
       "      <td>0</td>\n",
       "      <td>?</td>\n",
       "      <td>S</td>\n",
       "      <td>2.0</td>\n",
       "      <td>0</td>\n",
       "      <td>?</td>\n",
       "      <td>...</td>\n",
       "      <td>_1300.0_</td>\n",
       "      <td>_762_</td>\n",
       "      <td>?</td>\n",
       "      <td>0</td>\n",
       "      <td>?</td>\n",
       "      <td>ruim</td>\n",
       "      <td>exp_1368</td>\n",
       "      <td>exp_1368</td>\n",
       "      <td>2020</td>\n",
       "      <td>8</td>\n",
       "    </tr>\n",
       "    <tr>\n",
       "      <th>2</th>\n",
       "      <td>?</td>\n",
       "      <td>C</td>\n",
       "      <td>A</td>\n",
       "      <td>0</td>\n",
       "      <td>60</td>\n",
       "      <td>T</td>\n",
       "      <td>?</td>\n",
       "      <td>?</td>\n",
       "      <td>0</td>\n",
       "      <td>?</td>\n",
       "      <td>...</td>\n",
       "      <td>_385.1_</td>\n",
       "      <td>_0_</td>\n",
       "      <td>?</td>\n",
       "      <td>0</td>\n",
       "      <td>?</td>\n",
       "      <td>ideal</td>\n",
       "      <td>exp_1130</td>\n",
       "      <td>exp_1130</td>\n",
       "      <td>2020</td>\n",
       "      <td>8</td>\n",
       "    </tr>\n",
       "    <tr>\n",
       "      <th>3</th>\n",
       "      <td>?</td>\n",
       "      <td>C</td>\n",
       "      <td>A</td>\n",
       "      <td>0</td>\n",
       "      <td>60</td>\n",
       "      <td>T</td>\n",
       "      <td>?</td>\n",
       "      <td>?</td>\n",
       "      <td>0</td>\n",
       "      <td>?</td>\n",
       "      <td>...</td>\n",
       "      <td>_255.0_</td>\n",
       "      <td>_269_</td>\n",
       "      <td>?</td>\n",
       "      <td>0</td>\n",
       "      <td>?</td>\n",
       "      <td>ideal</td>\n",
       "      <td>exp_402</td>\n",
       "      <td>exp_402</td>\n",
       "      <td>2020</td>\n",
       "      <td>8</td>\n",
       "    </tr>\n",
       "    <tr>\n",
       "      <th>4</th>\n",
       "      <td>?</td>\n",
       "      <td>C</td>\n",
       "      <td>A</td>\n",
       "      <td>0</td>\n",
       "      <td>45</td>\n",
       "      <td>?</td>\n",
       "      <td>S</td>\n",
       "      <td>?</td>\n",
       "      <td>0</td>\n",
       "      <td>?</td>\n",
       "      <td>...</td>\n",
       "      <td>_610.0_</td>\n",
       "      <td>_0_</td>\n",
       "      <td>?</td>\n",
       "      <td>0</td>\n",
       "      <td>?</td>\n",
       "      <td>mediano</td>\n",
       "      <td>exp_407</td>\n",
       "      <td>exp_407</td>\n",
       "      <td>2020</td>\n",
       "      <td>8</td>\n",
       "    </tr>\n",
       "  </tbody>\n",
       "</table>\n",
       "<p>5 rows × 43 columns</p>\n",
       "</div>"
      ],
      "text/plain": [
       "  family product-type steel  carbon  hardness temper_rolling condition  \\\n",
       "0      ?            C     A       8         0              ?         S   \n",
       "1      ?            C     R       0         0              ?         S   \n",
       "2      ?            C     A       0        60              T         ?   \n",
       "3      ?            C     A       0        60              T         ?   \n",
       "4      ?            C     A       0        45              ?         S   \n",
       "\n",
       "  formability  strength non-ageing  ...       width      len oil bore packing  \\\n",
       "0           ?         0          ?  ...    _610.0_      _0_    ?    0       ?   \n",
       "1         2.0         0          ?  ...   _1300.0_    _762_    ?    0       ?   \n",
       "2           ?         0          ?  ...    _385.1_      _0_    ?    0       ?   \n",
       "3           ?         0          ?  ...    _255.0_    _269_    ?    0       ?   \n",
       "4           ?         0          ?  ...    _610.0_      _0_    ?    0       ?   \n",
       "\n",
       "  recozimento experimento    exp_id   ano mes  \n",
       "0        ruim       exp_2     exp_2  2020   8  \n",
       "1        ruim    exp_1368  exp_1368  2020   8  \n",
       "2       ideal    exp_1130  exp_1130  2020   8  \n",
       "3       ideal     exp_402   exp_402  2020   8  \n",
       "4     mediano     exp_407   exp_407  2020   8  \n",
       "\n",
       "[5 rows x 43 columns]"
      ]
     },
     "execution_count": 11,
     "metadata": {},
     "output_type": "execute_result"
    }
   ],
   "source": [
    "df_analise.head()"
   ]
  },
  {
   "cell_type": "code",
   "execution_count": 12,
   "metadata": {},
   "outputs": [],
   "source": [
    "df_analise = df_analise.drop(['experimento'], axis = 1)"
   ]
  },
  {
   "cell_type": "code",
   "execution_count": 13,
   "metadata": {},
   "outputs": [
    {
     "data": {
      "text/plain": [
       "ano\n",
       "2019     808\n",
       "2020    1616\n",
       "dtype: int64"
      ]
     },
     "execution_count": 13,
     "metadata": {},
     "output_type": "execute_result"
    }
   ],
   "source": [
    "df_analise.groupby('ano').size()"
   ]
  },
  {
   "cell_type": "code",
   "execution_count": 14,
   "metadata": {},
   "outputs": [
    {
     "data": {
      "text/plain": [
       "mes\n",
       "7     808\n",
       "8    1616\n",
       "dtype: int64"
      ]
     },
     "execution_count": 14,
     "metadata": {},
     "output_type": "execute_result"
    }
   ],
   "source": [
    "df_analise.groupby('mes').size()"
   ]
  },
  {
   "cell_type": "code",
   "execution_count": 15,
   "metadata": {},
   "outputs": [
    {
     "data": {
      "text/html": [
       "<div>\n",
       "<style scoped>\n",
       "    .dataframe tbody tr th:only-of-type {\n",
       "        vertical-align: middle;\n",
       "    }\n",
       "\n",
       "    .dataframe tbody tr th {\n",
       "        vertical-align: top;\n",
       "    }\n",
       "\n",
       "    .dataframe thead th {\n",
       "        text-align: right;\n",
       "    }\n",
       "</style>\n",
       "<table border=\"1\" class=\"dataframe\">\n",
       "  <thead>\n",
       "    <tr style=\"text-align: right;\">\n",
       "      <th></th>\n",
       "      <th>family</th>\n",
       "      <th>product-type</th>\n",
       "      <th>steel</th>\n",
       "      <th>carbon</th>\n",
       "      <th>hardness</th>\n",
       "      <th>temper_rolling</th>\n",
       "      <th>condition</th>\n",
       "      <th>formability</th>\n",
       "      <th>strength</th>\n",
       "      <th>non-ageing</th>\n",
       "      <th>...</th>\n",
       "      <th>thick</th>\n",
       "      <th>width</th>\n",
       "      <th>len</th>\n",
       "      <th>oil</th>\n",
       "      <th>bore</th>\n",
       "      <th>packing</th>\n",
       "      <th>recozimento</th>\n",
       "      <th>exp_id</th>\n",
       "      <th>ano</th>\n",
       "      <th>mes</th>\n",
       "    </tr>\n",
       "  </thead>\n",
       "  <tbody>\n",
       "    <tr>\n",
       "      <th>0</th>\n",
       "      <td>?</td>\n",
       "      <td>C</td>\n",
       "      <td>A</td>\n",
       "      <td>8</td>\n",
       "      <td>0</td>\n",
       "      <td>?</td>\n",
       "      <td>S</td>\n",
       "      <td>?</td>\n",
       "      <td>0</td>\n",
       "      <td>?</td>\n",
       "      <td>...</td>\n",
       "      <td>_0.7_</td>\n",
       "      <td>_610.0_</td>\n",
       "      <td>_0_</td>\n",
       "      <td>?</td>\n",
       "      <td>0</td>\n",
       "      <td>?</td>\n",
       "      <td>ruim</td>\n",
       "      <td>exp_2</td>\n",
       "      <td>2020</td>\n",
       "      <td>8</td>\n",
       "    </tr>\n",
       "    <tr>\n",
       "      <th>1</th>\n",
       "      <td>?</td>\n",
       "      <td>C</td>\n",
       "      <td>R</td>\n",
       "      <td>0</td>\n",
       "      <td>0</td>\n",
       "      <td>?</td>\n",
       "      <td>S</td>\n",
       "      <td>2.0</td>\n",
       "      <td>0</td>\n",
       "      <td>?</td>\n",
       "      <td>...</td>\n",
       "      <td>_0.7_</td>\n",
       "      <td>_1300.0_</td>\n",
       "      <td>_762_</td>\n",
       "      <td>?</td>\n",
       "      <td>0</td>\n",
       "      <td>?</td>\n",
       "      <td>ruim</td>\n",
       "      <td>exp_1368</td>\n",
       "      <td>2020</td>\n",
       "      <td>8</td>\n",
       "    </tr>\n",
       "    <tr>\n",
       "      <th>2</th>\n",
       "      <td>?</td>\n",
       "      <td>C</td>\n",
       "      <td>A</td>\n",
       "      <td>0</td>\n",
       "      <td>60</td>\n",
       "      <td>T</td>\n",
       "      <td>?</td>\n",
       "      <td>?</td>\n",
       "      <td>0</td>\n",
       "      <td>?</td>\n",
       "      <td>...</td>\n",
       "      <td>_2.801_</td>\n",
       "      <td>_385.1_</td>\n",
       "      <td>_0_</td>\n",
       "      <td>?</td>\n",
       "      <td>0</td>\n",
       "      <td>?</td>\n",
       "      <td>ideal</td>\n",
       "      <td>exp_1130</td>\n",
       "      <td>2020</td>\n",
       "      <td>8</td>\n",
       "    </tr>\n",
       "    <tr>\n",
       "      <th>3</th>\n",
       "      <td>?</td>\n",
       "      <td>C</td>\n",
       "      <td>A</td>\n",
       "      <td>0</td>\n",
       "      <td>60</td>\n",
       "      <td>T</td>\n",
       "      <td>?</td>\n",
       "      <td>?</td>\n",
       "      <td>0</td>\n",
       "      <td>?</td>\n",
       "      <td>...</td>\n",
       "      <td>_0.801_</td>\n",
       "      <td>_255.0_</td>\n",
       "      <td>_269_</td>\n",
       "      <td>?</td>\n",
       "      <td>0</td>\n",
       "      <td>?</td>\n",
       "      <td>ideal</td>\n",
       "      <td>exp_402</td>\n",
       "      <td>2020</td>\n",
       "      <td>8</td>\n",
       "    </tr>\n",
       "    <tr>\n",
       "      <th>4</th>\n",
       "      <td>?</td>\n",
       "      <td>C</td>\n",
       "      <td>A</td>\n",
       "      <td>0</td>\n",
       "      <td>45</td>\n",
       "      <td>?</td>\n",
       "      <td>S</td>\n",
       "      <td>?</td>\n",
       "      <td>0</td>\n",
       "      <td>?</td>\n",
       "      <td>...</td>\n",
       "      <td>_1.6_</td>\n",
       "      <td>_610.0_</td>\n",
       "      <td>_0_</td>\n",
       "      <td>?</td>\n",
       "      <td>0</td>\n",
       "      <td>?</td>\n",
       "      <td>mediano</td>\n",
       "      <td>exp_407</td>\n",
       "      <td>2020</td>\n",
       "      <td>8</td>\n",
       "    </tr>\n",
       "  </tbody>\n",
       "</table>\n",
       "<p>5 rows × 42 columns</p>\n",
       "</div>"
      ],
      "text/plain": [
       "  family product-type steel  carbon  hardness temper_rolling condition  \\\n",
       "0      ?            C     A       8         0              ?         S   \n",
       "1      ?            C     R       0         0              ?         S   \n",
       "2      ?            C     A       0        60              T         ?   \n",
       "3      ?            C     A       0        60              T         ?   \n",
       "4      ?            C     A       0        45              ?         S   \n",
       "\n",
       "  formability  strength non-ageing  ...      thick       width      len oil  \\\n",
       "0           ?         0          ?  ...     _0.7_     _610.0_      _0_    ?   \n",
       "1         2.0         0          ?  ...     _0.7_    _1300.0_    _762_    ?   \n",
       "2           ?         0          ?  ...   _2.801_     _385.1_      _0_    ?   \n",
       "3           ?         0          ?  ...   _0.801_     _255.0_    _269_    ?   \n",
       "4           ?         0          ?  ...     _1.6_     _610.0_      _0_    ?   \n",
       "\n",
       "  bore packing recozimento    exp_id   ano mes  \n",
       "0    0       ?        ruim     exp_2  2020   8  \n",
       "1    0       ?        ruim  exp_1368  2020   8  \n",
       "2    0       ?       ideal  exp_1130  2020   8  \n",
       "3    0       ?       ideal   exp_402  2020   8  \n",
       "4    0       ?     mediano   exp_407  2020   8  \n",
       "\n",
       "[5 rows x 42 columns]"
      ]
     },
     "execution_count": 15,
     "metadata": {},
     "output_type": "execute_result"
    }
   ],
   "source": [
    "df_analise = df_analise.loc[(df_analise['ano'] == 2020)]\n",
    "df_analise = df_analise.loc[(df_analise['mes'] == 8)]\n",
    "\n",
    "df_analise.head()"
   ]
  },
  {
   "cell_type": "code",
   "execution_count": 16,
   "metadata": {},
   "outputs": [],
   "source": [
    "df_analise = df_analise.drop(['ano', 'mes', 'exp_id'], axis = 1)"
   ]
  },
  {
   "cell_type": "code",
   "execution_count": 17,
   "metadata": {},
   "outputs": [
    {
     "data": {
      "text/html": [
       "<div>\n",
       "<style scoped>\n",
       "    .dataframe tbody tr th:only-of-type {\n",
       "        vertical-align: middle;\n",
       "    }\n",
       "\n",
       "    .dataframe tbody tr th {\n",
       "        vertical-align: top;\n",
       "    }\n",
       "\n",
       "    .dataframe thead th {\n",
       "        text-align: right;\n",
       "    }\n",
       "</style>\n",
       "<table border=\"1\" class=\"dataframe\">\n",
       "  <thead>\n",
       "    <tr style=\"text-align: right;\">\n",
       "      <th></th>\n",
       "      <th>family</th>\n",
       "      <th>product-type</th>\n",
       "      <th>steel</th>\n",
       "      <th>carbon</th>\n",
       "      <th>hardness</th>\n",
       "      <th>temper_rolling</th>\n",
       "      <th>condition</th>\n",
       "      <th>formability</th>\n",
       "      <th>strength</th>\n",
       "      <th>non-ageing</th>\n",
       "      <th>...</th>\n",
       "      <th>s</th>\n",
       "      <th>p</th>\n",
       "      <th>shape</th>\n",
       "      <th>thick</th>\n",
       "      <th>width</th>\n",
       "      <th>len</th>\n",
       "      <th>oil</th>\n",
       "      <th>bore</th>\n",
       "      <th>packing</th>\n",
       "      <th>recozimento</th>\n",
       "    </tr>\n",
       "  </thead>\n",
       "  <tbody>\n",
       "    <tr>\n",
       "      <th>0</th>\n",
       "      <td>?</td>\n",
       "      <td>C</td>\n",
       "      <td>A</td>\n",
       "      <td>8</td>\n",
       "      <td>0</td>\n",
       "      <td>?</td>\n",
       "      <td>S</td>\n",
       "      <td>?</td>\n",
       "      <td>0</td>\n",
       "      <td>?</td>\n",
       "      <td>...</td>\n",
       "      <td>?</td>\n",
       "      <td>?</td>\n",
       "      <td>COIL</td>\n",
       "      <td>_0.7_</td>\n",
       "      <td>_610.0_</td>\n",
       "      <td>_0_</td>\n",
       "      <td>?</td>\n",
       "      <td>0</td>\n",
       "      <td>?</td>\n",
       "      <td>ruim</td>\n",
       "    </tr>\n",
       "    <tr>\n",
       "      <th>1</th>\n",
       "      <td>?</td>\n",
       "      <td>C</td>\n",
       "      <td>R</td>\n",
       "      <td>0</td>\n",
       "      <td>0</td>\n",
       "      <td>?</td>\n",
       "      <td>S</td>\n",
       "      <td>2.0</td>\n",
       "      <td>0</td>\n",
       "      <td>?</td>\n",
       "      <td>...</td>\n",
       "      <td>?</td>\n",
       "      <td>?</td>\n",
       "      <td>SHEET</td>\n",
       "      <td>_0.7_</td>\n",
       "      <td>_1300.0_</td>\n",
       "      <td>_762_</td>\n",
       "      <td>?</td>\n",
       "      <td>0</td>\n",
       "      <td>?</td>\n",
       "      <td>ruim</td>\n",
       "    </tr>\n",
       "    <tr>\n",
       "      <th>2</th>\n",
       "      <td>?</td>\n",
       "      <td>C</td>\n",
       "      <td>A</td>\n",
       "      <td>0</td>\n",
       "      <td>60</td>\n",
       "      <td>T</td>\n",
       "      <td>?</td>\n",
       "      <td>?</td>\n",
       "      <td>0</td>\n",
       "      <td>?</td>\n",
       "      <td>...</td>\n",
       "      <td>?</td>\n",
       "      <td>?</td>\n",
       "      <td>COIL</td>\n",
       "      <td>_2.801_</td>\n",
       "      <td>_385.1_</td>\n",
       "      <td>_0_</td>\n",
       "      <td>?</td>\n",
       "      <td>0</td>\n",
       "      <td>?</td>\n",
       "      <td>ideal</td>\n",
       "    </tr>\n",
       "    <tr>\n",
       "      <th>3</th>\n",
       "      <td>?</td>\n",
       "      <td>C</td>\n",
       "      <td>A</td>\n",
       "      <td>0</td>\n",
       "      <td>60</td>\n",
       "      <td>T</td>\n",
       "      <td>?</td>\n",
       "      <td>?</td>\n",
       "      <td>0</td>\n",
       "      <td>?</td>\n",
       "      <td>...</td>\n",
       "      <td>?</td>\n",
       "      <td>?</td>\n",
       "      <td>SHEET</td>\n",
       "      <td>_0.801_</td>\n",
       "      <td>_255.0_</td>\n",
       "      <td>_269_</td>\n",
       "      <td>?</td>\n",
       "      <td>0</td>\n",
       "      <td>?</td>\n",
       "      <td>ideal</td>\n",
       "    </tr>\n",
       "    <tr>\n",
       "      <th>4</th>\n",
       "      <td>?</td>\n",
       "      <td>C</td>\n",
       "      <td>A</td>\n",
       "      <td>0</td>\n",
       "      <td>45</td>\n",
       "      <td>?</td>\n",
       "      <td>S</td>\n",
       "      <td>?</td>\n",
       "      <td>0</td>\n",
       "      <td>?</td>\n",
       "      <td>...</td>\n",
       "      <td>?</td>\n",
       "      <td>?</td>\n",
       "      <td>COIL</td>\n",
       "      <td>_1.6_</td>\n",
       "      <td>_610.0_</td>\n",
       "      <td>_0_</td>\n",
       "      <td>?</td>\n",
       "      <td>0</td>\n",
       "      <td>?</td>\n",
       "      <td>mediano</td>\n",
       "    </tr>\n",
       "  </tbody>\n",
       "</table>\n",
       "<p>5 rows × 39 columns</p>\n",
       "</div>"
      ],
      "text/plain": [
       "  family product-type steel  carbon  hardness temper_rolling condition  \\\n",
       "0      ?            C     A       8         0              ?         S   \n",
       "1      ?            C     R       0         0              ?         S   \n",
       "2      ?            C     A       0        60              T         ?   \n",
       "3      ?            C     A       0        60              T         ?   \n",
       "4      ?            C     A       0        45              ?         S   \n",
       "\n",
       "  formability  strength non-ageing  ...  s  p  shape      thick       width  \\\n",
       "0           ?         0          ?  ...  ?  ?   COIL     _0.7_     _610.0_    \n",
       "1         2.0         0          ?  ...  ?  ?  SHEET     _0.7_    _1300.0_    \n",
       "2           ?         0          ?  ...  ?  ?   COIL   _2.801_     _385.1_    \n",
       "3           ?         0          ?  ...  ?  ?  SHEET   _0.801_     _255.0_    \n",
       "4           ?         0          ?  ...  ?  ?   COIL     _1.6_     _610.0_    \n",
       "\n",
       "       len oil bore packing recozimento  \n",
       "0     _0_    ?    0       ?        ruim  \n",
       "1   _762_    ?    0       ?        ruim  \n",
       "2     _0_    ?    0       ?       ideal  \n",
       "3   _269_    ?    0       ?       ideal  \n",
       "4     _0_    ?    0       ?     mediano  \n",
       "\n",
       "[5 rows x 39 columns]"
      ]
     },
     "execution_count": 17,
     "metadata": {},
     "output_type": "execute_result"
    }
   ],
   "source": [
    "df_analise.head()"
   ]
  },
  {
   "cell_type": "markdown",
   "metadata": {},
   "source": [
    "# 01 - Analise Exploratoria"
   ]
  },
  {
   "cell_type": "markdown",
   "metadata": {},
   "source": [
    "## 01.1 - Analise dos Dados Qualitativos"
   ]
  },
  {
   "cell_type": "markdown",
   "metadata": {},
   "source": [
    "### 01.1.1 - Recozimento"
   ]
  },
  {
   "cell_type": "code",
   "execution_count": 18,
   "metadata": {},
   "outputs": [
    {
     "data": {
      "image/png": "[encoded data removed]",
      "text/plain": [
       "<Figure size 432x288 with 1 Axes>"
      ]
     },
     "metadata": {
      "needs_background": "light"
     },
     "output_type": "display_data"
    }
   ],
   "source": [
    "ax = sns.countplot(data = df_analise, x = 'recozimento', order = ('ruim', 'mediano', 'ideal'))"
   ]
  },
  {
   "cell_type": "markdown",
   "metadata": {},
   "source": [
    "Para a analise do modelo não será necessário fazer balanceamento das classes."
   ]
  },
  {
   "cell_type": "markdown",
   "metadata": {},
   "source": [
    "### 01.1.2 - Family"
   ]
  },
  {
   "cell_type": "code",
   "execution_count": 19,
   "metadata": {},
   "outputs": [
    {
     "data": {
      "image/png": "[encoded data removed]",
      "text/plain": [
       "<Figure size 432x288 with 1 Axes>"
      ]
     },
     "metadata": {
      "needs_background": "light"
     },
     "output_type": "display_data"
    }
   ],
   "source": [
    "ax = sns.countplot(data = df_analise, x = 'family')"
   ]
  },
  {
   "cell_type": "markdown",
   "metadata": {},
   "source": [
    "Há poucas observações da classes de familia, a coluna será descartada para a analise exploratória."
   ]
  },
  {
   "cell_type": "markdown",
   "metadata": {},
   "source": [
    "### 01.1.3 - Recozimento"
   ]
  },
  {
   "cell_type": "code",
   "execution_count": 20,
   "metadata": {},
   "outputs": [
    {
     "data": {
      "image/png": "[encoded data removed]",
      "text/plain": [
       "<Figure size 432x288 with 1 Axes>"
      ]
     },
     "metadata": {
      "needs_background": "light"
     },
     "output_type": "display_data"
    }
   ],
   "source": [
    "ax = sns.countplot(data = df_analise, x = 'product-type')"
   ]
  },
  {
   "cell_type": "markdown",
   "metadata": {},
   "source": [
    "Existe apenas uma observação para este atributo, a coluna será descartada da analise."
   ]
  },
  {
   "cell_type": "code",
   "execution_count": 21,
   "metadata": {},
   "outputs": [],
   "source": [
    "df_analise = df_analise.drop(['product-type'], axis = 1)"
   ]
  },
  {
   "cell_type": "markdown",
   "metadata": {},
   "source": [
    "### 01.1.4 - Steel"
   ]
  },
  {
   "cell_type": "code",
   "execution_count": 22,
   "metadata": {},
   "outputs": [
    {
     "data": {
      "image/png": "[encoded data removed]",
      "text/plain": [
       "<Figure size 432x288 with 1 Axes>"
      ]
     },
     "metadata": {
      "needs_background": "light"
     },
     "output_type": "display_data"
    }
   ],
   "source": [
    "ax = sns.countplot(data = df_analise, x = 'steel')"
   ]
  },
  {
   "cell_type": "code",
   "execution_count": 23,
   "metadata": {},
   "outputs": [
    {
     "data": {
      "text/plain": [
       "<Figure size 1440x1152 with 0 Axes>"
      ]
     },
     "metadata": {},
     "output_type": "display_data"
    },
    {
     "data": {
      "image/png": "[encoded data removed]",
      "text/plain": [
       "<Figure size 777.6x1296 with 8 Axes>"
      ]
     },
     "metadata": {
      "needs_background": "light"
     },
     "output_type": "display_data"
    }
   ],
   "source": [
    "# Visualizando a qualidade do recozimento de acordo com o tipo de metal.\n",
    "plt.figure(figsize=(20, 16))\n",
    "g = sns.catplot(data = df_analise, x = \"recozimento\",\n",
    "            kind = \"count\", \n",
    "            col = 'steel', col_wrap = 3,\n",
    "            order = ('ruim', 'mediano', 'ideal'),\n",
    "            legend = True,\n",
    "            margin_titles = True,\n",
    "            legend_out = True ,\n",
    "            height = 6, aspect = 0.6); "
   ]
  },
  {
   "cell_type": "markdown",
   "metadata": {},
   "source": [
    "### 01.1.4 - temper_rolling"
   ]
  },
  {
   "cell_type": "code",
   "execution_count": 24,
   "metadata": {},
   "outputs": [
    {
     "data": {
      "image/png": "[encoded data removed]",
      "text/plain": [
       "<Figure size 432x288 with 1 Axes>"
      ]
     },
     "metadata": {
      "needs_background": "light"
     },
     "output_type": "display_data"
    }
   ],
   "source": [
    "ax = sns.countplot(data = df_analise, x = 'temper_rolling')"
   ]
  },
  {
   "cell_type": "code",
   "execution_count": 25,
   "metadata": {},
   "outputs": [
    {
     "data": {
      "text/plain": [
       "<Figure size 1440x1152 with 0 Axes>"
      ]
     },
     "metadata": {},
     "output_type": "display_data"
    },
    {
     "data": {
      "image/png": "[encoded data removed]",
      "text/plain": [
       "<Figure size 777.6x432 with 2 Axes>"
      ]
     },
     "metadata": {
      "needs_background": "light"
     },
     "output_type": "display_data"
    }
   ],
   "source": [
    "# Visualizando a qualidade do recozimento de acordo com o atributo temper_rolling.\n",
    "plt.figure(figsize=(20, 16))\n",
    "g = sns.catplot(data = df_analise, x = \"recozimento\",\n",
    "            kind = \"count\", \n",
    "            col = 'temper_rolling', col_wrap = 3,\n",
    "            order = ('ruim', 'mediano', 'ideal'),\n",
    "            legend = True,\n",
    "            margin_titles = True,\n",
    "            legend_out = True ,\n",
    "            height = 6, aspect = 0.6); "
   ]
  },
  {
   "cell_type": "markdown",
   "metadata": {},
   "source": [
    "Apesar de poucas ocorrencias de experimentos com 'temper_rolling', vemos uma tendencia na melhora da qualidade do recozimento quando temos este atributo."
   ]
  },
  {
   "cell_type": "markdown",
   "metadata": {},
   "source": [
    "### 01.1.5 - condition"
   ]
  },
  {
   "cell_type": "code",
   "execution_count": 26,
   "metadata": {},
   "outputs": [
    {
     "data": {
      "image/png": "[encoded data removed]",
      "text/plain": [
       "<Figure size 432x288 with 1 Axes>"
      ]
     },
     "metadata": {
      "needs_background": "light"
     },
     "output_type": "display_data"
    }
   ],
   "source": [
    "ax = sns.countplot(data = df_analise, x = 'condition')"
   ]
  },
  {
   "cell_type": "code",
   "execution_count": 27,
   "metadata": {},
   "outputs": [
    {
     "data": {
      "text/plain": [
       "<Figure size 1440x1152 with 0 Axes>"
      ]
     },
     "metadata": {},
     "output_type": "display_data"
    },
    {
     "data": {
      "image/png": "[encoded data removed]",
      "text/plain": [
       "<Figure size 777.6x432 with 3 Axes>"
      ]
     },
     "metadata": {
      "needs_background": "light"
     },
     "output_type": "display_data"
    }
   ],
   "source": [
    "# Visualizando a qualidade do recozimento de acordo com o tipo de metal.\n",
    "plt.figure(figsize=(20, 16))\n",
    "g = sns.catplot(data = df_analise, x = \"recozimento\",\n",
    "            kind = \"count\", \n",
    "            col = 'condition', col_wrap = 3,\n",
    "            order = ('ruim', 'mediano', 'ideal'),\n",
    "            legend = True,\n",
    "            margin_titles = True,\n",
    "            legend_out = True ,\n",
    "            height = 6, aspect = 0.6);"
   ]
  },
  {
   "cell_type": "markdown",
   "metadata": {},
   "source": [
    "Apesar de poucas ocorrencias de experimentos com 'condition', vemos uma tendencia na melhora da qualidade do recozimento quando temos este atributo como 'condition = ?."
   ]
  },
  {
   "cell_type": "markdown",
   "metadata": {},
   "source": [
    "### 01.1.6 - formability"
   ]
  },
  {
   "cell_type": "code",
   "execution_count": 28,
   "metadata": {},
   "outputs": [
    {
     "data": {
      "image/png": "[encoded data removed]",
      "text/plain": [
       "<Figure size 432x288 with 1 Axes>"
      ]
     },
     "metadata": {
      "needs_background": "light"
     },
     "output_type": "display_data"
    }
   ],
   "source": [
    "ax = sns.countplot(data = df_analise, x = 'formability')"
   ]
  },
  {
   "cell_type": "code",
   "execution_count": 29,
   "metadata": {},
   "outputs": [
    {
     "data": {
      "text/plain": [
       "<Figure size 1440x1152 with 0 Axes>"
      ]
     },
     "metadata": {},
     "output_type": "display_data"
    },
    {
     "data": {
      "image/png": "[encoded data removed]",
      "text/plain": [
       "<Figure size 777.6x864 with 5 Axes>"
      ]
     },
     "metadata": {
      "needs_background": "light"
     },
     "output_type": "display_data"
    }
   ],
   "source": [
    "# Visualizando a qualidade do recozimento de acordo com o tipo de conformação.\n",
    "plt.figure(figsize=(20, 16))\n",
    "g = sns.catplot(data = df_analise, x = \"recozimento\",\n",
    "            kind = \"count\", \n",
    "            col = 'formability', col_wrap = 3,\n",
    "            order = ('ruim', 'mediano', 'ideal'),\n",
    "            legend = True,\n",
    "            margin_titles = True,\n",
    "            legend_out = True ,\n",
    "            height = 6, aspect = 0.6);"
   ]
  },
  {
   "cell_type": "markdown",
   "metadata": {},
   "source": [
    "### 01.1.7 - non-ageing"
   ]
  },
  {
   "cell_type": "code",
   "execution_count": 30,
   "metadata": {},
   "outputs": [
    {
     "data": {
      "image/png": "[encoded data removed]",
      "text/plain": [
       "<Figure size 432x288 with 1 Axes>"
      ]
     },
     "metadata": {
      "needs_background": "light"
     },
     "output_type": "display_data"
    }
   ],
   "source": [
    "ax = sns.countplot(data = df_analise, x = 'non-ageing')"
   ]
  },
  {
   "cell_type": "code",
   "execution_count": 31,
   "metadata": {},
   "outputs": [
    {
     "data": {
      "text/plain": [
       "<Figure size 1440x1152 with 0 Axes>"
      ]
     },
     "metadata": {},
     "output_type": "display_data"
    },
    {
     "data": {
      "image/png": "[encoded data removed]",
      "text/plain": [
       "<Figure size 777.6x432 with 2 Axes>"
      ]
     },
     "metadata": {
      "needs_background": "light"
     },
     "output_type": "display_data"
    }
   ],
   "source": [
    "# Visualizando a qualidade do recozimento de acordo com o tipo de metal.\n",
    "plt.figure(figsize=(20, 16))\n",
    "g = sns.catplot(data = df_analise, x = \"recozimento\",\n",
    "            kind = \"count\", \n",
    "            col = 'non-ageing', col_wrap = 3,\n",
    "            order = ('ruim', 'mediano', 'ideal'),\n",
    "            legend = True,\n",
    "            margin_titles = True,\n",
    "            legend_out = True ,\n",
    "            height = 6, aspect = 0.6);"
   ]
  },
  {
   "cell_type": "markdown",
   "metadata": {},
   "source": [
    "### 01.1.8 - surface-finish"
   ]
  },
  {
   "cell_type": "code",
   "execution_count": 32,
   "metadata": {},
   "outputs": [
    {
     "data": {
      "image/png": "[encoded data removed]",
      "text/plain": [
       "<Figure size 432x288 with 1 Axes>"
      ]
     },
     "metadata": {
      "needs_background": "light"
     },
     "output_type": "display_data"
    }
   ],
   "source": [
    "ax = sns.countplot(data = df_analise, x = 'surface-finish')"
   ]
  },
  {
   "cell_type": "code",
   "execution_count": 33,
   "metadata": {},
   "outputs": [
    {
     "data": {
      "text/plain": [
       "<Figure size 1440x1152 with 0 Axes>"
      ]
     },
     "metadata": {},
     "output_type": "display_data"
    },
    {
     "data": {
      "image/png": "[encoded data removed]",
      "text/plain": [
       "<Figure size 777.6x432 with 2 Axes>"
      ]
     },
     "metadata": {
      "needs_background": "light"
     },
     "output_type": "display_data"
    }
   ],
   "source": [
    "# Visualizando a qualidade do recozimento de acordo com o tipo de acabamento.\n",
    "plt.figure(figsize=(20, 16))\n",
    "g = sns.catplot(data = df_analise, x = \"recozimento\",\n",
    "            kind = \"count\", \n",
    "            col = 'surface-finish', col_wrap = 3,\n",
    "            order = ('ruim', 'mediano', 'ideal'),\n",
    "            legend = True,\n",
    "            margin_titles = True,\n",
    "            legend_out = True ,\n",
    "            height = 6, aspect = 0.6);"
   ]
  },
  {
   "cell_type": "markdown",
   "metadata": {},
   "source": [
    "Existem poucas ocorrencias para 'surface-finish = P', entretanto as observações existentes foram avaliadas como ideal ou mediano.\n",
    "A feature será descartada."
   ]
  },
  {
   "cell_type": "code",
   "execution_count": 34,
   "metadata": {},
   "outputs": [],
   "source": [
    "df_analise = df_analise.drop(['surface-finish'], axis = 1)"
   ]
  },
  {
   "cell_type": "markdown",
   "metadata": {},
   "source": [
    "### 01.1.9 - surface-quality"
   ]
  },
  {
   "cell_type": "code",
   "execution_count": 35,
   "metadata": {},
   "outputs": [
    {
     "data": {
      "image/png": "[encoded data removed]",
      "text/plain": [
       "<Figure size 432x288 with 1 Axes>"
      ]
     },
     "metadata": {
      "needs_background": "light"
     },
     "output_type": "display_data"
    }
   ],
   "source": [
    "ax = sns.countplot(data = df_analise, x = 'surface-quality')"
   ]
  },
  {
   "cell_type": "code",
   "execution_count": 36,
   "metadata": {},
   "outputs": [
    {
     "data": {
      "text/plain": [
       "<Figure size 1440x1152 with 0 Axes>"
      ]
     },
     "metadata": {},
     "output_type": "display_data"
    },
    {
     "data": {
      "image/png": "[encoded data removed]",
      "text/plain": [
       "<Figure size 777.6x432 with 3 Axes>"
      ]
     },
     "metadata": {
      "needs_background": "light"
     },
     "output_type": "display_data"
    }
   ],
   "source": [
    "# Visualizando a qualidade do recozimento de acordo com o tipo de qualidade de superficie.\n",
    "plt.figure(figsize=(20, 16))\n",
    "g = sns.catplot(data = df_analise, x = \"surface-quality\",\n",
    "            kind = \"count\", \n",
    "            col = 'recozimento', col_wrap = 3,\n",
    "            #order = ('ruim', 'mediano', 'ideal'),\n",
    "            legend = True,\n",
    "            margin_titles = True,\n",
    "            legend_out = True ,\n",
    "            height = 6, aspect = 0.6);"
   ]
  },
  {
   "cell_type": "markdown",
   "metadata": {},
   "source": [
    "### 01.1.10 - enamelability"
   ]
  },
  {
   "cell_type": "code",
   "execution_count": 37,
   "metadata": {},
   "outputs": [
    {
     "data": {
      "image/png": "[encoded data removed]",
      "text/plain": [
       "<Figure size 432x288 with 1 Axes>"
      ]
     },
     "metadata": {
      "needs_background": "light"
     },
     "output_type": "display_data"
    }
   ],
   "source": [
    "ax = sns.countplot(data = df_analise, x = 'enamelability')"
   ]
  },
  {
   "cell_type": "code",
   "execution_count": 38,
   "metadata": {},
   "outputs": [
    {
     "data": {
      "text/plain": [
       "<Figure size 1440x1152 with 0 Axes>"
      ]
     },
     "metadata": {},
     "output_type": "display_data"
    },
    {
     "data": {
      "image/png": "[encoded data removed]",
      "text/plain": [
       "<Figure size 777.6x432 with 3 Axes>"
      ]
     },
     "metadata": {
      "needs_background": "light"
     },
     "output_type": "display_data"
    }
   ],
   "source": [
    "# Visualizando a qualidade do recozimento de acordo com o tipo de qualidade de superficie.\n",
    "plt.figure(figsize=(20, 16))\n",
    "g = sns.catplot(data = df_analise, x = \"enamelability\",\n",
    "            kind = \"count\", \n",
    "            col = 'recozimento', col_wrap = 3,\n",
    "            #order = ('ruim', 'mediano', 'ideal'),\n",
    "            legend = True,\n",
    "            margin_titles = True,\n",
    "            legend_out = True ,\n",
    "            height = 6, aspect = 0.6);"
   ]
  },
  {
   "cell_type": "markdown",
   "metadata": {},
   "source": [
    "Há poucas observações do atributo 'enamelability', a coluna será descartada na analise"
   ]
  },
  {
   "cell_type": "code",
   "execution_count": 39,
   "metadata": {},
   "outputs": [],
   "source": [
    "df_analise = df_analise.drop(['enamelability'], axis = 1)"
   ]
  },
  {
   "cell_type": "markdown",
   "metadata": {},
   "source": [
    "### 01.1.11 - bc"
   ]
  },
  {
   "cell_type": "code",
   "execution_count": 40,
   "metadata": {},
   "outputs": [
    {
     "data": {
      "image/png": "[encoded data removed]",
      "text/plain": [
       "<Figure size 432x288 with 1 Axes>"
      ]
     },
     "metadata": {
      "needs_background": "light"
     },
     "output_type": "display_data"
    }
   ],
   "source": [
    "ax = sns.countplot(data = df_analise, x = 'bc')"
   ]
  },
  {
   "cell_type": "markdown",
   "metadata": {},
   "source": [
    "Feature com observações unicas, sera descartada para analise."
   ]
  },
  {
   "cell_type": "code",
   "execution_count": 41,
   "metadata": {},
   "outputs": [],
   "source": [
    "df_analise = df_analise.drop(['bc'], axis = 1)"
   ]
  },
  {
   "cell_type": "markdown",
   "metadata": {},
   "source": [
    "### 01.1.12 - bf"
   ]
  },
  {
   "cell_type": "code",
   "execution_count": 42,
   "metadata": {},
   "outputs": [
    {
     "data": {
      "image/png": "[encoded data removed]",
      "text/plain": [
       "<Figure size 432x288 with 1 Axes>"
      ]
     },
     "metadata": {
      "needs_background": "light"
     },
     "output_type": "display_data"
    }
   ],
   "source": [
    "ax = sns.countplot(data = df_analise, x = 'bf')"
   ]
  },
  {
   "cell_type": "code",
   "execution_count": 43,
   "metadata": {},
   "outputs": [
    {
     "data": {
      "text/plain": [
       "<Figure size 1440x1152 with 0 Axes>"
      ]
     },
     "metadata": {},
     "output_type": "display_data"
    },
    {
     "data": {
      "image/png": "[encoded data removed]",
      "text/plain": [
       "<Figure size 777.6x432 with 3 Axes>"
      ]
     },
     "metadata": {
      "needs_background": "light"
     },
     "output_type": "display_data"
    }
   ],
   "source": [
    "# Visualizando a qualidade do recozimento de acordo com a feature 'bf'\n",
    "plt.figure(figsize=(20, 16))\n",
    "g = sns.catplot(data = df_analise, x = \"bf\",\n",
    "            kind = \"count\", \n",
    "            col = 'recozimento', col_wrap = 3,\n",
    "            #order = ('ruim', 'mediano', 'ideal'),\n",
    "            legend = True,\n",
    "            margin_titles = True,\n",
    "            legend_out = True ,\n",
    "            height = 6, aspect = 0.6);"
   ]
  },
  {
   "cell_type": "markdown",
   "metadata": {},
   "source": [
    "### 01.1.13 - bw/me"
   ]
  },
  {
   "cell_type": "code",
   "execution_count": 44,
   "metadata": {},
   "outputs": [
    {
     "data": {
      "image/png": "[encoded data removed]",
      "text/plain": [
       "<Figure size 432x288 with 1 Axes>"
      ]
     },
     "metadata": {
      "needs_background": "light"
     },
     "output_type": "display_data"
    }
   ],
   "source": [
    "ax = sns.countplot(data = df_analise, x = 'bw/me')"
   ]
  },
  {
   "cell_type": "code",
   "execution_count": 45,
   "metadata": {},
   "outputs": [
    {
     "data": {
      "text/plain": [
       "<Figure size 1440x1152 with 0 Axes>"
      ]
     },
     "metadata": {},
     "output_type": "display_data"
    },
    {
     "data": {
      "image/png": "[encoded data removed]",
      "text/plain": [
       "<Figure size 777.6x432 with 3 Axes>"
      ]
     },
     "metadata": {
      "needs_background": "light"
     },
     "output_type": "display_data"
    }
   ],
   "source": [
    "# Visualizando a qualidade do recozimento de acordo com a feature 'bf'\n",
    "plt.figure(figsize=(20, 16))\n",
    "g = sns.catplot(data = df_analise, x = \"bw/me\",\n",
    "            kind = \"count\", \n",
    "            col = 'recozimento', col_wrap = 3,\n",
    "            #order = ('ruim', 'mediano', 'ideal'),\n",
    "            legend = True,\n",
    "            margin_titles = True,\n",
    "            legend_out = True ,\n",
    "            height = 6, aspect = 0.6);"
   ]
  },
  {
   "cell_type": "markdown",
   "metadata": {},
   "source": [
    "### 01.1.14 - bl"
   ]
  },
  {
   "cell_type": "code",
   "execution_count": 46,
   "metadata": {},
   "outputs": [
    {
     "data": {
      "image/png": "[encoded data removed]",
      "text/plain": [
       "<Figure size 432x288 with 1 Axes>"
      ]
     },
     "metadata": {
      "needs_background": "light"
     },
     "output_type": "display_data"
    }
   ],
   "source": [
    "ax = sns.countplot(data = df_analise, x = 'bl')"
   ]
  },
  {
   "cell_type": "code",
   "execution_count": 47,
   "metadata": {},
   "outputs": [
    {
     "data": {
      "text/plain": [
       "<Figure size 1440x1152 with 0 Axes>"
      ]
     },
     "metadata": {},
     "output_type": "display_data"
    },
    {
     "data": {
      "image/png": "[encoded data removed]",
      "text/plain": [
       "<Figure size 777.6x432 with 3 Axes>"
      ]
     },
     "metadata": {
      "needs_background": "light"
     },
     "output_type": "display_data"
    }
   ],
   "source": [
    "# Visualizando a qualidade do recozimento de acordo com a feature 'bl'\n",
    "plt.figure(figsize=(20, 16))\n",
    "g = sns.catplot(data = df_analise, x = \"bl\",\n",
    "            kind = \"count\", \n",
    "            col = 'recozimento', col_wrap = 3,\n",
    "            #order = ('ruim', 'mediano', 'ideal'),\n",
    "            legend = True,\n",
    "            margin_titles = True,\n",
    "            legend_out = True ,\n",
    "            height = 6, aspect = 0.6);"
   ]
  },
  {
   "cell_type": "markdown",
   "metadata": {},
   "source": [
    "### 01.1.15 - m"
   ]
  },
  {
   "cell_type": "code",
   "execution_count": 48,
   "metadata": {},
   "outputs": [
    {
     "data": {
      "image/png": "[encoded data removed]",
      "text/plain": [
       "<Figure size 432x288 with 1 Axes>"
      ]
     },
     "metadata": {
      "needs_background": "light"
     },
     "output_type": "display_data"
    }
   ],
   "source": [
    "ax = sns.countplot(data = df_analise, x = 'm')"
   ]
  },
  {
   "cell_type": "markdown",
   "metadata": {},
   "source": [
    "Feature com observações unicas, sera descartada para analise."
   ]
  },
  {
   "cell_type": "code",
   "execution_count": 49,
   "metadata": {},
   "outputs": [],
   "source": [
    "df_analise = df_analise.drop(['m'], axis = 1)"
   ]
  },
  {
   "cell_type": "markdown",
   "metadata": {},
   "source": [
    "### 01.1.16 - chrom"
   ]
  },
  {
   "cell_type": "code",
   "execution_count": 50,
   "metadata": {},
   "outputs": [
    {
     "data": {
      "image/png": "[encoded data removed]",
      "text/plain": [
       "<Figure size 432x288 with 1 Axes>"
      ]
     },
     "metadata": {
      "needs_background": "light"
     },
     "output_type": "display_data"
    }
   ],
   "source": [
    "ax = sns.countplot(data = df_analise, x = 'chrom')"
   ]
  },
  {
   "cell_type": "code",
   "execution_count": 51,
   "metadata": {},
   "outputs": [
    {
     "data": {
      "text/plain": [
       "chrom\n",
       "?    784\n",
       "C     24\n",
       "dtype: int64"
      ]
     },
     "execution_count": 51,
     "metadata": {},
     "output_type": "execute_result"
    }
   ],
   "source": [
    "df_analise.groupby('chrom').size()"
   ]
  },
  {
   "cell_type": "code",
   "execution_count": 52,
   "metadata": {},
   "outputs": [
    {
     "data": {
      "text/plain": [
       "<Figure size 1440x1152 with 0 Axes>"
      ]
     },
     "metadata": {},
     "output_type": "display_data"
    },
    {
     "data": {
      "image/png": "[encoded data removed]",
      "text/plain": [
       "<Figure size 777.6x432 with 3 Axes>"
      ]
     },
     "metadata": {
      "needs_background": "light"
     },
     "output_type": "display_data"
    }
   ],
   "source": [
    "# Visualizando a qualidade do recozimento de acordo com a feature 'bl'\n",
    "plt.figure(figsize=(20, 16))\n",
    "g = sns.catplot(data = df_analise, x = \"chrom\",\n",
    "            kind = \"count\", \n",
    "            col = 'recozimento', col_wrap = 3,\n",
    "            #order = ('ruim', 'mediano', 'ideal'),\n",
    "            legend = True,\n",
    "            margin_titles = True,\n",
    "            legend_out = True ,\n",
    "            height = 6, aspect = 0.6);"
   ]
  },
  {
   "cell_type": "markdown",
   "metadata": {},
   "source": [
    "Há poucas observações do atributo 'chrom', a coluna será descartada na analise"
   ]
  },
  {
   "cell_type": "code",
   "execution_count": 53,
   "metadata": {},
   "outputs": [],
   "source": [
    "df_analise = df_analise.drop(['chrom'], axis = 1)"
   ]
  },
  {
   "cell_type": "markdown",
   "metadata": {},
   "source": [
    "### 01.1.17 - phos"
   ]
  },
  {
   "cell_type": "code",
   "execution_count": 54,
   "metadata": {},
   "outputs": [
    {
     "data": {
      "image/png": "[encoded data removed]",
      "text/plain": [
       "<Figure size 432x288 with 1 Axes>"
      ]
     },
     "metadata": {
      "needs_background": "light"
     },
     "output_type": "display_data"
    }
   ],
   "source": [
    "ax = sns.countplot(data = df_analise, x = 'phos')"
   ]
  },
  {
   "cell_type": "markdown",
   "metadata": {},
   "source": [
    "Há poucas observações do atributo 'phos', a coluna será descartada na analise"
   ]
  },
  {
   "cell_type": "code",
   "execution_count": 55,
   "metadata": {},
   "outputs": [],
   "source": [
    "df_analise = df_analise.drop(['phos'], axis = 1)"
   ]
  },
  {
   "cell_type": "markdown",
   "metadata": {},
   "source": [
    "### 01.1.17 - cbond"
   ]
  },
  {
   "cell_type": "code",
   "execution_count": 56,
   "metadata": {},
   "outputs": [
    {
     "data": {
      "image/png": "[encoded data removed]",
      "text/plain": [
       "<Figure size 432x288 with 1 Axes>"
      ]
     },
     "metadata": {
      "needs_background": "light"
     },
     "output_type": "display_data"
    }
   ],
   "source": [
    "ax = sns.countplot(data = df_analise, x = 'cbond')"
   ]
  },
  {
   "cell_type": "code",
   "execution_count": 57,
   "metadata": {},
   "outputs": [
    {
     "data": {
      "text/plain": [
       "<Figure size 1440x1152 with 0 Axes>"
      ]
     },
     "metadata": {},
     "output_type": "display_data"
    },
    {
     "data": {
      "image/png": "[encoded data removed]",
      "text/plain": [
       "<Figure size 777.6x432 with 3 Axes>"
      ]
     },
     "metadata": {
      "needs_background": "light"
     },
     "output_type": "display_data"
    }
   ],
   "source": [
    "# Visualizando a qualidade do recozimento de acordo com a feature 'bl'\n",
    "plt.figure(figsize=(20, 16))\n",
    "g = sns.catplot(data = df_analise, x = \"cbond\",\n",
    "            kind = \"count\", \n",
    "            col = 'recozimento', col_wrap = 3,\n",
    "            #order = ('ruim', 'mediano', 'ideal'),\n",
    "            legend = True,\n",
    "            margin_titles = True,\n",
    "            legend_out = True ,\n",
    "            height = 6, aspect = 0.6);"
   ]
  },
  {
   "cell_type": "markdown",
   "metadata": {},
   "source": [
    "### 01.1.18 - marvi"
   ]
  },
  {
   "cell_type": "code",
   "execution_count": 58,
   "metadata": {},
   "outputs": [
    {
     "data": {
      "image/png": "[encoded data removed]",
      "text/plain": [
       "<Figure size 432x288 with 1 Axes>"
      ]
     },
     "metadata": {
      "needs_background": "light"
     },
     "output_type": "display_data"
    }
   ],
   "source": [
    "ax = sns.countplot(data = df_analise, x = 'marvi')"
   ]
  },
  {
   "cell_type": "markdown",
   "metadata": {},
   "source": [
    "Feature com observações unicas, sera descartada para analise."
   ]
  },
  {
   "cell_type": "code",
   "execution_count": 59,
   "metadata": {},
   "outputs": [],
   "source": [
    "df_analise = df_analise.drop(['marvi'], axis = 1)"
   ]
  },
  {
   "cell_type": "markdown",
   "metadata": {},
   "source": [
    "### 01.1.19 - exptl"
   ]
  },
  {
   "cell_type": "code",
   "execution_count": 60,
   "metadata": {},
   "outputs": [
    {
     "data": {
      "image/png": "[encoded data removed]",
      "text/plain": [
       "<Figure size 432x288 with 1 Axes>"
      ]
     },
     "metadata": {
      "needs_background": "light"
     },
     "output_type": "display_data"
    }
   ],
   "source": [
    "ax = sns.countplot(data = df_analise, x = 'exptl')"
   ]
  },
  {
   "cell_type": "markdown",
   "metadata": {},
   "source": [
    "Feature com observações praticamente unicas, sera descartada para analise."
   ]
  },
  {
   "cell_type": "code",
   "execution_count": 61,
   "metadata": {},
   "outputs": [],
   "source": [
    "df_analise = df_analise.drop(['exptl'], axis = 1)"
   ]
  },
  {
   "cell_type": "markdown",
   "metadata": {},
   "source": [
    "### 01.1.20 - ferro"
   ]
  },
  {
   "cell_type": "code",
   "execution_count": 62,
   "metadata": {},
   "outputs": [
    {
     "data": {
      "image/png": "[encoded data removed]",
      "text/plain": [
       "<Figure size 432x288 with 1 Axes>"
      ]
     },
     "metadata": {
      "needs_background": "light"
     },
     "output_type": "display_data"
    }
   ],
   "source": [
    "ax = sns.countplot(data = df_analise, x = 'ferro')"
   ]
  },
  {
   "cell_type": "code",
   "execution_count": 63,
   "metadata": {},
   "outputs": [
    {
     "data": {
      "text/plain": [
       "ferro\n",
       "?    781\n",
       "Y     27\n",
       "dtype: int64"
      ]
     },
     "execution_count": 63,
     "metadata": {},
     "output_type": "execute_result"
    }
   ],
   "source": [
    "df_analise.groupby('ferro').size()"
   ]
  },
  {
   "cell_type": "code",
   "execution_count": 64,
   "metadata": {},
   "outputs": [
    {
     "data": {
      "text/plain": [
       "<Figure size 1440x1152 with 0 Axes>"
      ]
     },
     "metadata": {},
     "output_type": "display_data"
    },
    {
     "data": {
      "image/png": "[encoded data removed]",
      "text/plain": [
       "<Figure size 777.6x432 with 3 Axes>"
      ]
     },
     "metadata": {
      "needs_background": "light"
     },
     "output_type": "display_data"
    }
   ],
   "source": [
    "# Visualizando a qualidade do recozimento de acordo com a feature 'bl'\n",
    "plt.figure(figsize=(20, 16))\n",
    "g = sns.catplot(data = df_analise, x = \"ferro\",\n",
    "            kind = \"count\", \n",
    "            col = 'recozimento', col_wrap = 3,\n",
    "            #order = ('ruim', 'mediano', 'ideal'),\n",
    "            legend = True,\n",
    "            margin_titles = True,\n",
    "            legend_out = True ,\n",
    "            height = 6, aspect = 0.6);"
   ]
  },
  {
   "cell_type": "markdown",
   "metadata": {},
   "source": [
    "#### 01.1.21 - corr"
   ]
  },
  {
   "cell_type": "code",
   "execution_count": 65,
   "metadata": {},
   "outputs": [
    {
     "data": {
      "image/png": "[encoded data removed]",
      "text/plain": [
       "<Figure size 432x288 with 1 Axes>"
      ]
     },
     "metadata": {
      "needs_background": "light"
     },
     "output_type": "display_data"
    }
   ],
   "source": [
    "ax = sns.countplot(data = df_analise, x = 'corr')"
   ]
  },
  {
   "cell_type": "markdown",
   "metadata": {},
   "source": [
    "Feature com observações unicas, sera descartada para analise."
   ]
  },
  {
   "cell_type": "code",
   "execution_count": 66,
   "metadata": {},
   "outputs": [],
   "source": [
    "df_analise = df_analise.drop(['corr'], axis = 1)"
   ]
  },
  {
   "cell_type": "markdown",
   "metadata": {},
   "source": [
    "#### 01.1.22 - blue/bright/varn/clean"
   ]
  },
  {
   "cell_type": "code",
   "execution_count": 67,
   "metadata": {},
   "outputs": [
    {
     "data": {
      "image/png": "[encoded data removed]",
      "text/plain": [
       "<Figure size 432x288 with 1 Axes>"
      ]
     },
     "metadata": {
      "needs_background": "light"
     },
     "output_type": "display_data"
    }
   ],
   "source": [
    "ax = sns.countplot(data = df_analise, x = 'blue/bright/varn/clean')"
   ]
  },
  {
   "cell_type": "markdown",
   "metadata": {},
   "source": [
    "Há poucas observações do atributo 'blue/bright/varn/clean', a coluna será descartada na analise"
   ]
  },
  {
   "cell_type": "markdown",
   "metadata": {},
   "source": [
    "#### 01.1.23 - lustre"
   ]
  },
  {
   "cell_type": "code",
   "execution_count": 68,
   "metadata": {},
   "outputs": [
    {
     "data": {
      "image/png": "[encoded data removed]",
      "text/plain": [
       "<Figure size 432x288 with 1 Axes>"
      ]
     },
     "metadata": {
      "needs_background": "light"
     },
     "output_type": "display_data"
    }
   ],
   "source": [
    "ax = sns.countplot(data = df_analise, x = 'lustre')"
   ]
  },
  {
   "cell_type": "code",
   "execution_count": 69,
   "metadata": {},
   "outputs": [
    {
     "data": {
      "text/plain": [
       "lustre\n",
       "?    762\n",
       "Y     46\n",
       "dtype: int64"
      ]
     },
     "execution_count": 69,
     "metadata": {},
     "output_type": "execute_result"
    }
   ],
   "source": [
    "df_analise.groupby('lustre').size()"
   ]
  },
  {
   "cell_type": "code",
   "execution_count": 70,
   "metadata": {},
   "outputs": [
    {
     "data": {
      "text/plain": [
       "<Figure size 1440x1152 with 0 Axes>"
      ]
     },
     "metadata": {},
     "output_type": "display_data"
    },
    {
     "data": {
      "image/png": "[encoded data removed]",
      "text/plain": [
       "<Figure size 777.6x432 with 3 Axes>"
      ]
     },
     "metadata": {
      "needs_background": "light"
     },
     "output_type": "display_data"
    }
   ],
   "source": [
    "# Visualizando a qualidade do recozimento de acordo com a feature 'lustre'\n",
    "plt.figure(figsize=(20, 16))\n",
    "g = sns.catplot(data = df_analise, x = \"lustre\",\n",
    "            kind = \"count\", \n",
    "            col = 'recozimento', col_wrap = 3,\n",
    "            #order = ('ruim', 'mediano', 'ideal'),\n",
    "            legend = True,\n",
    "            margin_titles = True,\n",
    "            legend_out = True ,\n",
    "            height = 6, aspect = 0.6);\n"
   ]
  },
  {
   "cell_type": "markdown",
   "metadata": {},
   "source": [
    "Há poucas observações do atributo 'lusre', a coluna será descartada na analise"
   ]
  },
  {
   "cell_type": "code",
   "execution_count": 71,
   "metadata": {},
   "outputs": [],
   "source": [
    "df_analise = df_analise.drop(['lustre'], axis = 1)"
   ]
  },
  {
   "cell_type": "markdown",
   "metadata": {},
   "source": [
    "#### 01.1.24 - jurofm"
   ]
  },
  {
   "cell_type": "code",
   "execution_count": 72,
   "metadata": {},
   "outputs": [
    {
     "data": {
      "image/png": "[encoded data removed]",
      "text/plain": [
       "<Figure size 432x288 with 1 Axes>"
      ]
     },
     "metadata": {
      "needs_background": "light"
     },
     "output_type": "display_data"
    }
   ],
   "source": [
    "ax = sns.countplot(data = df_analise, x = 'jurofm')"
   ]
  },
  {
   "cell_type": "markdown",
   "metadata": {},
   "source": [
    "Feature com observações unicas, sera descartada para analise."
   ]
  },
  {
   "cell_type": "code",
   "execution_count": 73,
   "metadata": {},
   "outputs": [],
   "source": [
    "df_analise = df_analise.drop(['jurofm'], axis = 1)"
   ]
  },
  {
   "cell_type": "markdown",
   "metadata": {},
   "source": [
    "#### 01.1.25 - s"
   ]
  },
  {
   "cell_type": "code",
   "execution_count": 74,
   "metadata": {},
   "outputs": [
    {
     "data": {
      "image/png": "[encoded data removed]",
      "text/plain": [
       "<Figure size 432x288 with 1 Axes>"
      ]
     },
     "metadata": {
      "needs_background": "light"
     },
     "output_type": "display_data"
    }
   ],
   "source": [
    "ax = sns.countplot(data = df_analise, x = 's')"
   ]
  },
  {
   "cell_type": "markdown",
   "metadata": {},
   "source": [
    "Feature com observações unicas, sera descartada para analise."
   ]
  },
  {
   "cell_type": "code",
   "execution_count": 75,
   "metadata": {},
   "outputs": [],
   "source": [
    "df_analise = df_analise.drop(['s'], axis = 1)"
   ]
  },
  {
   "cell_type": "markdown",
   "metadata": {},
   "source": [
    "#### 01.1.26 - p"
   ]
  },
  {
   "cell_type": "code",
   "execution_count": 76,
   "metadata": {},
   "outputs": [
    {
     "data": {
      "image/png": "[encoded data removed]",
      "text/plain": [
       "<Figure size 432x288 with 1 Axes>"
      ]
     },
     "metadata": {
      "needs_background": "light"
     },
     "output_type": "display_data"
    }
   ],
   "source": [
    "ax = sns.countplot(data = df_analise, x = 'p')"
   ]
  },
  {
   "cell_type": "markdown",
   "metadata": {},
   "source": [
    "Feature com observações unicas, sera descartada para analise."
   ]
  },
  {
   "cell_type": "code",
   "execution_count": 77,
   "metadata": {},
   "outputs": [],
   "source": [
    "df_analise = df_analise.drop(['p'], axis = 1)"
   ]
  },
  {
   "cell_type": "markdown",
   "metadata": {},
   "source": [
    "#### 01.1.27 - shape"
   ]
  },
  {
   "cell_type": "code",
   "execution_count": 78,
   "metadata": {},
   "outputs": [
    {
     "data": {
      "image/png": "[encoded data removed]",
      "text/plain": [
       "<Figure size 432x288 with 1 Axes>"
      ]
     },
     "metadata": {
      "needs_background": "light"
     },
     "output_type": "display_data"
    }
   ],
   "source": [
    "ax = sns.countplot(data = df_analise, x = 'shape')"
   ]
  },
  {
   "cell_type": "code",
   "execution_count": 79,
   "metadata": {},
   "outputs": [
    {
     "data": {
      "text/plain": [
       "<Figure size 1440x1152 with 0 Axes>"
      ]
     },
     "metadata": {},
     "output_type": "display_data"
    },
    {
     "data": {
      "image/png": "[encoded data removed]",
      "text/plain": [
       "<Figure size 777.6x432 with 3 Axes>"
      ]
     },
     "metadata": {
      "needs_background": "light"
     },
     "output_type": "display_data"
    }
   ],
   "source": [
    "# Visualizando a qualidade do recozimento de acordo com a feature 'shape'\n",
    "plt.figure(figsize=(20, 16))\n",
    "g = sns.catplot(data = df_analise, x = \"shape\",\n",
    "            kind = \"count\", \n",
    "            col = 'recozimento', col_wrap = 3,\n",
    "            #order = ('ruim', 'mediano', 'ideal'),\n",
    "            legend = True,\n",
    "            margin_titles = True,\n",
    "            legend_out = True ,\n",
    "            height = 6, aspect = 0.6);"
   ]
  },
  {
   "cell_type": "code",
   "execution_count": 80,
   "metadata": {},
   "outputs": [
    {
     "data": {
      "text/plain": [
       "shape  recozimento\n",
       "COIL   ideal           99\n",
       "       mediano        118\n",
       "       ruim           160\n",
       "SHEET  ideal           73\n",
       "       mediano         68\n",
       "       ruim           290\n",
       "dtype: int64"
      ]
     },
     "execution_count": 80,
     "metadata": {},
     "output_type": "execute_result"
    }
   ],
   "source": [
    "df_analise.groupby(['shape', 'recozimento']).size()"
   ]
  },
  {
   "cell_type": "markdown",
   "metadata": {},
   "source": [
    "#### 01.1.28 - oil"
   ]
  },
  {
   "cell_type": "code",
   "execution_count": 81,
   "metadata": {},
   "outputs": [
    {
     "data": {
      "image/png": "[encoded data removed]",
      "text/plain": [
       "<Figure size 432x288 with 1 Axes>"
      ]
     },
     "metadata": {
      "needs_background": "light"
     },
     "output_type": "display_data"
    }
   ],
   "source": [
    "ax = sns.countplot(data = df_analise, x = 'oil')"
   ]
  },
  {
   "cell_type": "code",
   "execution_count": 82,
   "metadata": {},
   "outputs": [
    {
     "data": {
      "text/plain": [
       "<Figure size 1440x1152 with 0 Axes>"
      ]
     },
     "metadata": {},
     "output_type": "display_data"
    },
    {
     "data": {
      "image/png": "[encoded data removed]",
      "text/plain": [
       "<Figure size 777.6x432 with 3 Axes>"
      ]
     },
     "metadata": {
      "needs_background": "light"
     },
     "output_type": "display_data"
    }
   ],
   "source": [
    "# Visualizando a qualidade do recozimento de acordo com a feature 'shape'\n",
    "plt.figure(figsize=(20, 16))\n",
    "g = sns.catplot(data = df_analise, x = \"oil\",\n",
    "            kind = \"count\", \n",
    "            col = 'recozimento', col_wrap = 3,\n",
    "            #order = ('ruim', 'mediano', 'ideal'),\n",
    "            legend = True,\n",
    "            margin_titles = True,\n",
    "            legend_out = True ,\n",
    "            height = 6, aspect = 0.6);"
   ]
  },
  {
   "cell_type": "code",
   "execution_count": 83,
   "metadata": {},
   "outputs": [
    {
     "data": {
      "text/plain": [
       "oil\n",
       "?    750\n",
       "N     19\n",
       "Y     39\n",
       "dtype: int64"
      ]
     },
     "execution_count": 83,
     "metadata": {},
     "output_type": "execute_result"
    }
   ],
   "source": [
    "df_analise.groupby('oil').size()"
   ]
  },
  {
   "cell_type": "markdown",
   "metadata": {},
   "source": [
    "Há poucas observações do atributo 'oil', a coluna será descartada na analise"
   ]
  },
  {
   "cell_type": "code",
   "execution_count": 84,
   "metadata": {},
   "outputs": [],
   "source": [
    "df_analise = df_analise.drop(['oil'], axis = 1)"
   ]
  },
  {
   "cell_type": "markdown",
   "metadata": {},
   "source": [
    "#### 01.1.29 - bore"
   ]
  },
  {
   "cell_type": "code",
   "execution_count": 85,
   "metadata": {},
   "outputs": [
    {
     "data": {
      "image/png": "[encoded data removed]",
      "text/plain": [
       "<Figure size 432x288 with 1 Axes>"
      ]
     },
     "metadata": {
      "needs_background": "light"
     },
     "output_type": "display_data"
    }
   ],
   "source": [
    "ax = sns.countplot(data = df_analise, x = 'bore')"
   ]
  },
  {
   "cell_type": "code",
   "execution_count": 86,
   "metadata": {},
   "outputs": [
    {
     "data": {
      "text/plain": [
       "bore\n",
       "0      768\n",
       "500     10\n",
       "600     30\n",
       "dtype: int64"
      ]
     },
     "execution_count": 86,
     "metadata": {},
     "output_type": "execute_result"
    }
   ],
   "source": [
    "df_analise.groupby('bore').size()"
   ]
  },
  {
   "cell_type": "code",
   "execution_count": 87,
   "metadata": {},
   "outputs": [
    {
     "data": {
      "text/plain": [
       "<Figure size 1440x1152 with 0 Axes>"
      ]
     },
     "metadata": {},
     "output_type": "display_data"
    },
    {
     "data": {
      "image/png": "[encoded data removed]",
      "text/plain": [
       "<Figure size 777.6x432 with 3 Axes>"
      ]
     },
     "metadata": {
      "needs_background": "light"
     },
     "output_type": "display_data"
    }
   ],
   "source": [
    "# Visualizando a qualidade do recozimento de acordo com a feature 'shape'\n",
    "plt.figure(figsize=(20, 16))\n",
    "g = sns.catplot(data = df_analise, x = \"bore\",\n",
    "            kind = \"count\", \n",
    "            col = 'recozimento', col_wrap = 3,\n",
    "            #order = ('ruim', 'mediano', 'ideal'),\n",
    "            legend = True,\n",
    "            margin_titles = True,\n",
    "            legend_out = True ,\n",
    "            height = 6, aspect = 0.6);"
   ]
  },
  {
   "cell_type": "markdown",
   "metadata": {},
   "source": [
    "#### 01.1.30 - packing"
   ]
  },
  {
   "cell_type": "code",
   "execution_count": 88,
   "metadata": {},
   "outputs": [
    {
     "data": {
      "image/png": "[encoded data removed]",
      "text/plain": [
       "<Figure size 432x288 with 1 Axes>"
      ]
     },
     "metadata": {
      "needs_background": "light"
     },
     "output_type": "display_data"
    }
   ],
   "source": [
    "ax = sns.countplot(data = df_analise, x = 'packing')"
   ]
  },
  {
   "cell_type": "markdown",
   "metadata": {},
   "source": [
    "Há poucas observações do atributo 'packing', a coluna será descartada na analise"
   ]
  },
  {
   "cell_type": "code",
   "execution_count": 89,
   "metadata": {},
   "outputs": [
    {
     "data": {
      "text/plain": [
       "<Figure size 1440x1152 with 0 Axes>"
      ]
     },
     "metadata": {},
     "output_type": "display_data"
    },
    {
     "data": {
      "image/png": "[encoded data removed]",
      "text/plain": [
       "<Figure size 777.6x432 with 3 Axes>"
      ]
     },
     "metadata": {
      "needs_background": "light"
     },
     "output_type": "display_data"
    }
   ],
   "source": [
    "# Visualizando a qualidade do recozimento de acordo com a feature 'bl'\n",
    "plt.figure(figsize=(20, 16))\n",
    "g = sns.catplot(data = df_analise, x = \"packing\",\n",
    "            kind = \"count\", \n",
    "            col = 'recozimento', col_wrap = 3,\n",
    "            #order = ('ruim', 'mediano', 'ideal'),\n",
    "            legend = True,\n",
    "            margin_titles = True,\n",
    "            legend_out = True ,\n",
    "            height = 6, aspect = 0.6);"
   ]
  },
  {
   "cell_type": "code",
   "execution_count": 90,
   "metadata": {},
   "outputs": [],
   "source": [
    "df_analise = df_analise.drop(['packing'], axis = 1)"
   ]
  },
  {
   "cell_type": "code",
   "execution_count": 91,
   "metadata": {},
   "outputs": [
    {
     "name": "stdout",
     "output_type": "stream",
     "text": [
      "<class 'pandas.core.frame.DataFrame'>\n",
      "Int64Index: 808 entries, 0 to 807\n",
      "Data columns (total 23 columns):\n",
      "family                    808 non-null object\n",
      "steel                     808 non-null object\n",
      "carbon                    808 non-null int64\n",
      "hardness                  808 non-null int64\n",
      "temper_rolling            808 non-null object\n",
      "condition                 808 non-null object\n",
      "formability               808 non-null object\n",
      "strength                  808 non-null int64\n",
      "non-ageing                808 non-null object\n",
      "surface-quality           808 non-null object\n",
      "bf                        808 non-null object\n",
      "bt                        808 non-null object\n",
      "bw/me                     808 non-null object\n",
      "bl                        808 non-null object\n",
      "cbond                     808 non-null object\n",
      "ferro                     808 non-null object\n",
      "blue/bright/varn/clean    808 non-null object\n",
      "shape                     808 non-null object\n",
      "thick                     808 non-null object\n",
      "width                     808 non-null object\n",
      "len                       808 non-null object\n",
      "bore                      808 non-null int64\n",
      "recozimento               808 non-null object\n",
      "dtypes: int64(4), object(19)\n",
      "memory usage: 191.5+ KB\n"
     ]
    }
   ],
   "source": [
    "df_analise.info()"
   ]
  },
  {
   "cell_type": "markdown",
   "metadata": {},
   "source": [
    "O dataset sofre uma redução de dimensionalidade de 40 para 24 colunas, utilizando o criterio que para analise seriam utilizados os dados do mes de agosto de 2020. "
   ]
  },
  {
   "cell_type": "markdown",
   "metadata": {},
   "source": [
    "As colunas retiradas do dataset possuiam em sua maioria valores constante ou com baixissima variação."
   ]
  },
  {
   "cell_type": "markdown",
   "metadata": {},
   "source": [
    "## 01.2 - Analise dos Dados Quantitativos"
   ]
  },
  {
   "cell_type": "markdown",
   "metadata": {},
   "source": [
    "#### 01.2.1 - carbon"
   ]
  },
  {
   "cell_type": "code",
   "execution_count": 92,
   "metadata": {},
   "outputs": [
    {
     "data": {
      "text/plain": [
       "0    8\n",
       "1    0\n",
       "2    0\n",
       "3    0\n",
       "4    0\n",
       "Name: carbon, dtype: int64"
      ]
     },
     "execution_count": 92,
     "metadata": {},
     "output_type": "execute_result"
    }
   ],
   "source": [
    "df_analise['carbon'].head()"
   ]
  },
  {
   "cell_type": "code",
   "execution_count": 93,
   "metadata": {},
   "outputs": [
    {
     "data": {
      "text/plain": [
       "count    808.000000\n",
       "mean       3.492574\n",
       "std       13.542716\n",
       "min        0.000000\n",
       "25%        0.000000\n",
       "50%        0.000000\n",
       "75%        0.000000\n",
       "max       70.000000\n",
       "Name: carbon, dtype: float64"
      ]
     },
     "execution_count": 93,
     "metadata": {},
     "output_type": "execute_result"
    }
   ],
   "source": [
    "df_analise['carbon'].describe()"
   ]
  },
  {
   "cell_type": "markdown",
   "metadata": {},
   "source": [
    "#### 01.2.2 - hardness"
   ]
  },
  {
   "cell_type": "code",
   "execution_count": 94,
   "metadata": {},
   "outputs": [
    {
     "data": {
      "text/plain": [
       "0     0\n",
       "1     0\n",
       "2    60\n",
       "3    60\n",
       "4    45\n",
       "Name: hardness, dtype: int64"
      ]
     },
     "execution_count": 94,
     "metadata": {},
     "output_type": "execute_result"
    }
   ],
   "source": [
    "df_analise['hardness'].head()"
   ]
  },
  {
   "cell_type": "code",
   "execution_count": 95,
   "metadata": {},
   "outputs": [
    {
     "data": {
      "text/plain": [
       "count    808.000000\n",
       "mean      12.357673\n",
       "std       25.134918\n",
       "min        0.000000\n",
       "25%        0.000000\n",
       "50%        0.000000\n",
       "75%        0.000000\n",
       "max       85.000000\n",
       "Name: hardness, dtype: float64"
      ]
     },
     "execution_count": 95,
     "metadata": {},
     "output_type": "execute_result"
    }
   ],
   "source": [
    "df_analise['hardness'].describe()"
   ]
  },
  {
   "cell_type": "markdown",
   "metadata": {},
   "source": [
    "#### 01.2.3 - strength"
   ]
  },
  {
   "cell_type": "code",
   "execution_count": 96,
   "metadata": {},
   "outputs": [
    {
     "data": {
      "text/plain": [
       "0    0\n",
       "1    0\n",
       "2    0\n",
       "3    0\n",
       "4    0\n",
       "Name: strength, dtype: int64"
      ]
     },
     "execution_count": 96,
     "metadata": {},
     "output_type": "execute_result"
    }
   ],
   "source": [
    "df_analise['strength'].head()"
   ]
  },
  {
   "cell_type": "code",
   "execution_count": 97,
   "metadata": {},
   "outputs": [
    {
     "data": {
      "text/plain": [
       "count    808.000000\n",
       "mean      30.829208\n",
       "std      116.203601\n",
       "min        0.000000\n",
       "25%        0.000000\n",
       "50%        0.000000\n",
       "75%        0.000000\n",
       "max      700.000000\n",
       "Name: strength, dtype: float64"
      ]
     },
     "execution_count": 97,
     "metadata": {},
     "output_type": "execute_result"
    }
   ],
   "source": [
    "df_analise['strength'].describe()"
   ]
  },
  {
   "cell_type": "markdown",
   "metadata": {},
   "source": [
    "#### 01.2.4 - thick"
   ]
  },
  {
   "cell_type": "code",
   "execution_count": 98,
   "metadata": {},
   "outputs": [
    {
     "data": {
      "text/plain": [
       "0       _0.7_ \n",
       "1       _0.7_ \n",
       "2     _2.801_ \n",
       "3     _0.801_ \n",
       "4       _1.6_ \n",
       "Name: thick, dtype: object"
      ]
     },
     "execution_count": 98,
     "metadata": {},
     "output_type": "execute_result"
    }
   ],
   "source": [
    "df_analise['thick'].head()"
   ]
  },
  {
   "cell_type": "markdown",
   "metadata": {},
   "source": [
    "Os dados foram armazenados como string e com sufixo e prefixo '_'"
   ]
  },
  {
   "cell_type": "code",
   "execution_count": 99,
   "metadata": {},
   "outputs": [],
   "source": [
    "df_analise['thick'] = df_analise['thick'].str.replace('_', '').astype('float')"
   ]
  },
  {
   "cell_type": "code",
   "execution_count": 100,
   "metadata": {},
   "outputs": [
    {
     "data": {
      "text/plain": [
       "count    808.000000\n",
       "mean       1.194947\n",
       "std        0.878501\n",
       "min        0.240000\n",
       "25%        0.601000\n",
       "50%        0.800000\n",
       "75%        1.600000\n",
       "max        4.000000\n",
       "Name: thick, dtype: float64"
      ]
     },
     "execution_count": 100,
     "metadata": {},
     "output_type": "execute_result"
    }
   ],
   "source": [
    "df_analise['thick'].describe()"
   ]
  },
  {
   "cell_type": "markdown",
   "metadata": {},
   "source": [
    "#### 01.2.4 - widht"
   ]
  },
  {
   "cell_type": "code",
   "execution_count": 101,
   "metadata": {},
   "outputs": [
    {
     "data": {
      "text/plain": [
       "0      _610.0_ \n",
       "1     _1300.0_ \n",
       "2      _385.1_ \n",
       "3      _255.0_ \n",
       "4      _610.0_ \n",
       "Name: width, dtype: object"
      ]
     },
     "execution_count": 101,
     "metadata": {},
     "output_type": "execute_result"
    }
   ],
   "source": [
    "df_analise['width'].head()"
   ]
  },
  {
   "cell_type": "markdown",
   "metadata": {},
   "source": [
    "Os dados foram armazenados como string e com sufixo e prefixo '_'"
   ]
  },
  {
   "cell_type": "code",
   "execution_count": 102,
   "metadata": {},
   "outputs": [],
   "source": [
    "df_analise['width'] = df_analise['width'].str.replace('_', '').astype('float')"
   ]
  },
  {
   "cell_type": "code",
   "execution_count": 103,
   "metadata": {},
   "outputs": [
    {
     "data": {
      "text/plain": [
       "count     808.000000\n",
       "mean      781.849505\n",
       "std       404.277628\n",
       "min         0.000000\n",
       "25%       609.900000\n",
       "50%       610.000000\n",
       "75%      1250.000000\n",
       "max      1525.000000\n",
       "Name: width, dtype: float64"
      ]
     },
     "execution_count": 103,
     "metadata": {},
     "output_type": "execute_result"
    }
   ],
   "source": [
    "df_analise['width'].describe()"
   ]
  },
  {
   "cell_type": "markdown",
   "metadata": {},
   "source": [
    "#### 01.2.5 - len"
   ]
  },
  {
   "cell_type": "code",
   "execution_count": 104,
   "metadata": {},
   "outputs": [
    {
     "data": {
      "text/plain": [
       "0       _0_ \n",
       "1     _762_ \n",
       "2       _0_ \n",
       "3     _269_ \n",
       "4       _0_ \n",
       "Name: len, dtype: object"
      ]
     },
     "execution_count": 104,
     "metadata": {},
     "output_type": "execute_result"
    }
   ],
   "source": [
    "df_analise['len'].head()"
   ]
  },
  {
   "cell_type": "markdown",
   "metadata": {},
   "source": [
    "Os dados foram armazenados como string e com sufixo e prefixo '_'"
   ]
  },
  {
   "cell_type": "code",
   "execution_count": 105,
   "metadata": {},
   "outputs": [],
   "source": [
    "df_analise['len'] = df_analise['len'].str.replace('_', '').astype('float')"
   ]
  },
  {
   "cell_type": "code",
   "execution_count": 106,
   "metadata": {},
   "outputs": [
    {
     "data": {
      "text/plain": [
       "count     808.000000\n",
       "mean     1232.308168\n",
       "std      1854.913346\n",
       "min         0.000000\n",
       "25%         0.000000\n",
       "50%       301.000000\n",
       "75%       762.000000\n",
       "max      4880.000000\n",
       "Name: len, dtype: float64"
      ]
     },
     "execution_count": 106,
     "metadata": {},
     "output_type": "execute_result"
    }
   ],
   "source": [
    "df_analise['len'].describe()"
   ]
  },
  {
   "cell_type": "markdown",
   "metadata": {},
   "source": [
    "## 02 - Analise do Dataset Limpo"
   ]
  },
  {
   "cell_type": "code",
   "execution_count": 107,
   "metadata": {},
   "outputs": [
    {
     "data": {
      "text/html": [
       "<div>\n",
       "<style scoped>\n",
       "    .dataframe tbody tr th:only-of-type {\n",
       "        vertical-align: middle;\n",
       "    }\n",
       "\n",
       "    .dataframe tbody tr th {\n",
       "        vertical-align: top;\n",
       "    }\n",
       "\n",
       "    .dataframe thead th {\n",
       "        text-align: right;\n",
       "    }\n",
       "</style>\n",
       "<table border=\"1\" class=\"dataframe\">\n",
       "  <thead>\n",
       "    <tr style=\"text-align: right;\">\n",
       "      <th></th>\n",
       "      <th>family</th>\n",
       "      <th>steel</th>\n",
       "      <th>carbon</th>\n",
       "      <th>hardness</th>\n",
       "      <th>temper_rolling</th>\n",
       "      <th>condition</th>\n",
       "      <th>formability</th>\n",
       "      <th>strength</th>\n",
       "      <th>non-ageing</th>\n",
       "      <th>surface-quality</th>\n",
       "      <th>...</th>\n",
       "      <th>bl</th>\n",
       "      <th>cbond</th>\n",
       "      <th>ferro</th>\n",
       "      <th>blue/bright/varn/clean</th>\n",
       "      <th>shape</th>\n",
       "      <th>thick</th>\n",
       "      <th>width</th>\n",
       "      <th>len</th>\n",
       "      <th>bore</th>\n",
       "      <th>recozimento</th>\n",
       "    </tr>\n",
       "  </thead>\n",
       "  <tbody>\n",
       "    <tr>\n",
       "      <th>0</th>\n",
       "      <td>?</td>\n",
       "      <td>A</td>\n",
       "      <td>8</td>\n",
       "      <td>0</td>\n",
       "      <td>?</td>\n",
       "      <td>S</td>\n",
       "      <td>?</td>\n",
       "      <td>0</td>\n",
       "      <td>?</td>\n",
       "      <td>G</td>\n",
       "      <td>...</td>\n",
       "      <td>?</td>\n",
       "      <td>?</td>\n",
       "      <td>?</td>\n",
       "      <td>?</td>\n",
       "      <td>COIL</td>\n",
       "      <td>0.700</td>\n",
       "      <td>610.0</td>\n",
       "      <td>0.0</td>\n",
       "      <td>0</td>\n",
       "      <td>ruim</td>\n",
       "    </tr>\n",
       "    <tr>\n",
       "      <th>1</th>\n",
       "      <td>?</td>\n",
       "      <td>R</td>\n",
       "      <td>0</td>\n",
       "      <td>0</td>\n",
       "      <td>?</td>\n",
       "      <td>S</td>\n",
       "      <td>2.0</td>\n",
       "      <td>0</td>\n",
       "      <td>?</td>\n",
       "      <td>E</td>\n",
       "      <td>...</td>\n",
       "      <td>?</td>\n",
       "      <td>?</td>\n",
       "      <td>?</td>\n",
       "      <td>?</td>\n",
       "      <td>SHEET</td>\n",
       "      <td>0.700</td>\n",
       "      <td>1300.0</td>\n",
       "      <td>762.0</td>\n",
       "      <td>0</td>\n",
       "      <td>ruim</td>\n",
       "    </tr>\n",
       "    <tr>\n",
       "      <th>2</th>\n",
       "      <td>?</td>\n",
       "      <td>A</td>\n",
       "      <td>0</td>\n",
       "      <td>60</td>\n",
       "      <td>T</td>\n",
       "      <td>?</td>\n",
       "      <td>?</td>\n",
       "      <td>0</td>\n",
       "      <td>?</td>\n",
       "      <td>G</td>\n",
       "      <td>...</td>\n",
       "      <td>?</td>\n",
       "      <td>?</td>\n",
       "      <td>?</td>\n",
       "      <td>?</td>\n",
       "      <td>COIL</td>\n",
       "      <td>2.801</td>\n",
       "      <td>385.1</td>\n",
       "      <td>0.0</td>\n",
       "      <td>0</td>\n",
       "      <td>ideal</td>\n",
       "    </tr>\n",
       "    <tr>\n",
       "      <th>3</th>\n",
       "      <td>?</td>\n",
       "      <td>A</td>\n",
       "      <td>0</td>\n",
       "      <td>60</td>\n",
       "      <td>T</td>\n",
       "      <td>?</td>\n",
       "      <td>?</td>\n",
       "      <td>0</td>\n",
       "      <td>?</td>\n",
       "      <td>G</td>\n",
       "      <td>...</td>\n",
       "      <td>Y</td>\n",
       "      <td>Y</td>\n",
       "      <td>?</td>\n",
       "      <td>?</td>\n",
       "      <td>SHEET</td>\n",
       "      <td>0.801</td>\n",
       "      <td>255.0</td>\n",
       "      <td>269.0</td>\n",
       "      <td>0</td>\n",
       "      <td>ideal</td>\n",
       "    </tr>\n",
       "    <tr>\n",
       "      <th>4</th>\n",
       "      <td>?</td>\n",
       "      <td>A</td>\n",
       "      <td>0</td>\n",
       "      <td>45</td>\n",
       "      <td>?</td>\n",
       "      <td>S</td>\n",
       "      <td>?</td>\n",
       "      <td>0</td>\n",
       "      <td>?</td>\n",
       "      <td>D</td>\n",
       "      <td>...</td>\n",
       "      <td>?</td>\n",
       "      <td>?</td>\n",
       "      <td>?</td>\n",
       "      <td>?</td>\n",
       "      <td>COIL</td>\n",
       "      <td>1.600</td>\n",
       "      <td>610.0</td>\n",
       "      <td>0.0</td>\n",
       "      <td>0</td>\n",
       "      <td>mediano</td>\n",
       "    </tr>\n",
       "  </tbody>\n",
       "</table>\n",
       "<p>5 rows × 23 columns</p>\n",
       "</div>"
      ],
      "text/plain": [
       "  family steel  carbon  hardness temper_rolling condition formability  \\\n",
       "0      ?     A       8         0              ?         S           ?   \n",
       "1      ?     R       0         0              ?         S         2.0   \n",
       "2      ?     A       0        60              T         ?           ?   \n",
       "3      ?     A       0        60              T         ?           ?   \n",
       "4      ?     A       0        45              ?         S           ?   \n",
       "\n",
       "   strength non-ageing surface-quality  ... bl cbond ferro  \\\n",
       "0         0          ?               G  ...  ?     ?     ?   \n",
       "1         0          ?               E  ...  ?     ?     ?   \n",
       "2         0          ?               G  ...  ?     ?     ?   \n",
       "3         0          ?               G  ...  Y     Y     ?   \n",
       "4         0          ?               D  ...  ?     ?     ?   \n",
       "\n",
       "  blue/bright/varn/clean  shape  thick   width    len  bore  recozimento  \n",
       "0                      ?   COIL  0.700   610.0    0.0     0         ruim  \n",
       "1                      ?  SHEET  0.700  1300.0  762.0     0         ruim  \n",
       "2                      ?   COIL  2.801   385.1    0.0     0        ideal  \n",
       "3                      ?  SHEET  0.801   255.0  269.0     0        ideal  \n",
       "4                      ?   COIL  1.600   610.0    0.0     0      mediano  \n",
       "\n",
       "[5 rows x 23 columns]"
      ]
     },
     "execution_count": 107,
     "metadata": {},
     "output_type": "execute_result"
    }
   ],
   "source": [
    "df_analise.head()"
   ]
  },
  {
   "cell_type": "code",
   "execution_count": 108,
   "metadata": {},
   "outputs": [
    {
     "name": "stdout",
     "output_type": "stream",
     "text": [
      "<class 'pandas.core.frame.DataFrame'>\n",
      "Int64Index: 808 entries, 0 to 807\n",
      "Data columns (total 23 columns):\n",
      "family                    808 non-null object\n",
      "steel                     808 non-null object\n",
      "carbon                    808 non-null int64\n",
      "hardness                  808 non-null int64\n",
      "temper_rolling            808 non-null object\n",
      "condition                 808 non-null object\n",
      "formability               808 non-null object\n",
      "strength                  808 non-null int64\n",
      "non-ageing                808 non-null object\n",
      "surface-quality           808 non-null object\n",
      "bf                        808 non-null object\n",
      "bt                        808 non-null object\n",
      "bw/me                     808 non-null object\n",
      "bl                        808 non-null object\n",
      "cbond                     808 non-null object\n",
      "ferro                     808 non-null object\n",
      "blue/bright/varn/clean    808 non-null object\n",
      "shape                     808 non-null object\n",
      "thick                     808 non-null float64\n",
      "width                     808 non-null float64\n",
      "len                       808 non-null float64\n",
      "bore                      808 non-null int64\n",
      "recozimento               808 non-null object\n",
      "dtypes: float64(3), int64(4), object(16)\n",
      "memory usage: 191.5+ KB\n"
     ]
    }
   ],
   "source": [
    "df_analise.info()"
   ]
  },
  {
   "cell_type": "code",
   "execution_count": 109,
   "metadata": {},
   "outputs": [
    {
     "data": {
      "text/html": [
       "<div>\n",
       "<style scoped>\n",
       "    .dataframe tbody tr th:only-of-type {\n",
       "        vertical-align: middle;\n",
       "    }\n",
       "\n",
       "    .dataframe tbody tr th {\n",
       "        vertical-align: top;\n",
       "    }\n",
       "\n",
       "    .dataframe thead th {\n",
       "        text-align: right;\n",
       "    }\n",
       "</style>\n",
       "<table border=\"1\" class=\"dataframe\">\n",
       "  <thead>\n",
       "    <tr style=\"text-align: right;\">\n",
       "      <th></th>\n",
       "      <th>carbon</th>\n",
       "      <th>hardness</th>\n",
       "      <th>strength</th>\n",
       "      <th>thick</th>\n",
       "      <th>width</th>\n",
       "      <th>len</th>\n",
       "      <th>bore</th>\n",
       "    </tr>\n",
       "  </thead>\n",
       "  <tbody>\n",
       "    <tr>\n",
       "      <th>count</th>\n",
       "      <td>808.000000</td>\n",
       "      <td>808.000000</td>\n",
       "      <td>808.000000</td>\n",
       "      <td>808.000000</td>\n",
       "      <td>808.000000</td>\n",
       "      <td>808.000000</td>\n",
       "      <td>808.000000</td>\n",
       "    </tr>\n",
       "    <tr>\n",
       "      <th>mean</th>\n",
       "      <td>3.492574</td>\n",
       "      <td>12.357673</td>\n",
       "      <td>30.829208</td>\n",
       "      <td>1.194947</td>\n",
       "      <td>781.849505</td>\n",
       "      <td>1232.308168</td>\n",
       "      <td>28.465347</td>\n",
       "    </tr>\n",
       "    <tr>\n",
       "      <th>std</th>\n",
       "      <td>13.542716</td>\n",
       "      <td>25.134918</td>\n",
       "      <td>116.203601</td>\n",
       "      <td>0.878501</td>\n",
       "      <td>404.277628</td>\n",
       "      <td>1854.913346</td>\n",
       "      <td>125.177926</td>\n",
       "    </tr>\n",
       "    <tr>\n",
       "      <th>min</th>\n",
       "      <td>0.000000</td>\n",
       "      <td>0.000000</td>\n",
       "      <td>0.000000</td>\n",
       "      <td>0.240000</td>\n",
       "      <td>0.000000</td>\n",
       "      <td>0.000000</td>\n",
       "      <td>0.000000</td>\n",
       "    </tr>\n",
       "    <tr>\n",
       "      <th>25%</th>\n",
       "      <td>0.000000</td>\n",
       "      <td>0.000000</td>\n",
       "      <td>0.000000</td>\n",
       "      <td>0.601000</td>\n",
       "      <td>609.900000</td>\n",
       "      <td>0.000000</td>\n",
       "      <td>0.000000</td>\n",
       "    </tr>\n",
       "    <tr>\n",
       "      <th>50%</th>\n",
       "      <td>0.000000</td>\n",
       "      <td>0.000000</td>\n",
       "      <td>0.000000</td>\n",
       "      <td>0.800000</td>\n",
       "      <td>610.000000</td>\n",
       "      <td>301.000000</td>\n",
       "      <td>0.000000</td>\n",
       "    </tr>\n",
       "    <tr>\n",
       "      <th>75%</th>\n",
       "      <td>0.000000</td>\n",
       "      <td>0.000000</td>\n",
       "      <td>0.000000</td>\n",
       "      <td>1.600000</td>\n",
       "      <td>1250.000000</td>\n",
       "      <td>762.000000</td>\n",
       "      <td>0.000000</td>\n",
       "    </tr>\n",
       "    <tr>\n",
       "      <th>max</th>\n",
       "      <td>70.000000</td>\n",
       "      <td>85.000000</td>\n",
       "      <td>700.000000</td>\n",
       "      <td>4.000000</td>\n",
       "      <td>1525.000000</td>\n",
       "      <td>4880.000000</td>\n",
       "      <td>600.000000</td>\n",
       "    </tr>\n",
       "  </tbody>\n",
       "</table>\n",
       "</div>"
      ],
      "text/plain": [
       "           carbon    hardness    strength       thick        width  \\\n",
       "count  808.000000  808.000000  808.000000  808.000000   808.000000   \n",
       "mean     3.492574   12.357673   30.829208    1.194947   781.849505   \n",
       "std     13.542716   25.134918  116.203601    0.878501   404.277628   \n",
       "min      0.000000    0.000000    0.000000    0.240000     0.000000   \n",
       "25%      0.000000    0.000000    0.000000    0.601000   609.900000   \n",
       "50%      0.000000    0.000000    0.000000    0.800000   610.000000   \n",
       "75%      0.000000    0.000000    0.000000    1.600000  1250.000000   \n",
       "max     70.000000   85.000000  700.000000    4.000000  1525.000000   \n",
       "\n",
       "               len        bore  \n",
       "count   808.000000  808.000000  \n",
       "mean   1232.308168   28.465347  \n",
       "std    1854.913346  125.177926  \n",
       "min       0.000000    0.000000  \n",
       "25%       0.000000    0.000000  \n",
       "50%     301.000000    0.000000  \n",
       "75%     762.000000    0.000000  \n",
       "max    4880.000000  600.000000  "
      ]
     },
     "execution_count": 109,
     "metadata": {},
     "output_type": "execute_result"
    }
   ],
   "source": [
    "df_analise.describe()"
   ]
  },
  {
   "cell_type": "code",
   "execution_count": 110,
   "metadata": {},
   "outputs": [
    {
     "data": {
      "text/html": [
       "<div>\n",
       "<style scoped>\n",
       "    .dataframe tbody tr th:only-of-type {\n",
       "        vertical-align: middle;\n",
       "    }\n",
       "\n",
       "    .dataframe tbody tr th {\n",
       "        vertical-align: top;\n",
       "    }\n",
       "\n",
       "    .dataframe thead th {\n",
       "        text-align: right;\n",
       "    }\n",
       "</style>\n",
       "<table border=\"1\" class=\"dataframe\">\n",
       "  <thead>\n",
       "    <tr style=\"text-align: right;\">\n",
       "      <th></th>\n",
       "      <th>carbon</th>\n",
       "      <th>hardness</th>\n",
       "      <th>strength</th>\n",
       "      <th>thick</th>\n",
       "      <th>width</th>\n",
       "      <th>len</th>\n",
       "      <th>bore</th>\n",
       "    </tr>\n",
       "  </thead>\n",
       "  <tbody>\n",
       "    <tr>\n",
       "      <th>carbon</th>\n",
       "      <td>1.000000</td>\n",
       "      <td>-0.126951</td>\n",
       "      <td>-0.068505</td>\n",
       "      <td>0.193119</td>\n",
       "      <td>0.002418</td>\n",
       "      <td>-0.127345</td>\n",
       "      <td>0.285930</td>\n",
       "    </tr>\n",
       "    <tr>\n",
       "      <th>hardness</th>\n",
       "      <td>-0.126951</td>\n",
       "      <td>1.000000</td>\n",
       "      <td>-0.130599</td>\n",
       "      <td>0.023384</td>\n",
       "      <td>-0.032118</td>\n",
       "      <td>-0.117843</td>\n",
       "      <td>0.169656</td>\n",
       "    </tr>\n",
       "    <tr>\n",
       "      <th>strength</th>\n",
       "      <td>-0.068505</td>\n",
       "      <td>-0.130599</td>\n",
       "      <td>1.000000</td>\n",
       "      <td>0.075101</td>\n",
       "      <td>0.055514</td>\n",
       "      <td>-0.031351</td>\n",
       "      <td>-0.033996</td>\n",
       "    </tr>\n",
       "    <tr>\n",
       "      <th>thick</th>\n",
       "      <td>0.193119</td>\n",
       "      <td>0.023384</td>\n",
       "      <td>0.075101</td>\n",
       "      <td>1.000000</td>\n",
       "      <td>0.015904</td>\n",
       "      <td>-0.083123</td>\n",
       "      <td>0.394505</td>\n",
       "    </tr>\n",
       "    <tr>\n",
       "      <th>width</th>\n",
       "      <td>0.002418</td>\n",
       "      <td>-0.032118</td>\n",
       "      <td>0.055514</td>\n",
       "      <td>0.015904</td>\n",
       "      <td>1.000000</td>\n",
       "      <td>0.107076</td>\n",
       "      <td>0.023235</td>\n",
       "    </tr>\n",
       "    <tr>\n",
       "      <th>len</th>\n",
       "      <td>-0.127345</td>\n",
       "      <td>-0.117843</td>\n",
       "      <td>-0.031351</td>\n",
       "      <td>-0.083123</td>\n",
       "      <td>0.107076</td>\n",
       "      <td>1.000000</td>\n",
       "      <td>-0.151259</td>\n",
       "    </tr>\n",
       "    <tr>\n",
       "      <th>bore</th>\n",
       "      <td>0.285930</td>\n",
       "      <td>0.169656</td>\n",
       "      <td>-0.033996</td>\n",
       "      <td>0.394505</td>\n",
       "      <td>0.023235</td>\n",
       "      <td>-0.151259</td>\n",
       "      <td>1.000000</td>\n",
       "    </tr>\n",
       "  </tbody>\n",
       "</table>\n",
       "</div>"
      ],
      "text/plain": [
       "            carbon  hardness  strength     thick     width       len      bore\n",
       "carbon    1.000000 -0.126951 -0.068505  0.193119  0.002418 -0.127345  0.285930\n",
       "hardness -0.126951  1.000000 -0.130599  0.023384 -0.032118 -0.117843  0.169656\n",
       "strength -0.068505 -0.130599  1.000000  0.075101  0.055514 -0.031351 -0.033996\n",
       "thick     0.193119  0.023384  0.075101  1.000000  0.015904 -0.083123  0.394505\n",
       "width     0.002418 -0.032118  0.055514  0.015904  1.000000  0.107076  0.023235\n",
       "len      -0.127345 -0.117843 -0.031351 -0.083123  0.107076  1.000000 -0.151259\n",
       "bore      0.285930  0.169656 -0.033996  0.394505  0.023235 -0.151259  1.000000"
      ]
     },
     "execution_count": 110,
     "metadata": {},
     "output_type": "execute_result"
    }
   ],
   "source": [
    "df_analise.corr()"
   ]
  },
  {
   "cell_type": "markdown",
   "metadata": {},
   "source": [
    "## 03 - Salvando Dataset Limpo Para Analise"
   ]
  },
  {
   "cell_type": "code",
   "execution_count": 114,
   "metadata": {},
   "outputs": [],
   "source": [
    "df_analise.to_csv('dataset_clean.csv')"
   ]
  }
 ],
 "metadata": {
  "kernelspec": {
   "display_name": "Python 3",
   "language": "python",
   "name": "python3"
  },
  "language_info": {
   "codemirror_mode": {
    "name": "ipython",
    "version": 3
   },
   "file_extension": ".py",
   "mimetype": "text/x-python",
   "name": "python",
   "nbconvert_exporter": "python",
   "pygments_lexer": "ipython3",
   "version": "3.7.3"
  }
 },
 "nbformat": 4,
 "nbformat_minor": 2
}
